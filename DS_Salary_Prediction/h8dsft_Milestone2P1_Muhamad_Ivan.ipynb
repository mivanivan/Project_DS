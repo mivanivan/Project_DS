{
 "cells": [
  {
   "cell_type": "markdown",
   "metadata": {},
   "source": [
    "# Phase 1 Milestone 2\n"
   ]
  },
  {
   "cell_type": "markdown",
   "metadata": {},
   "source": [
    "# I - Perkenalan\n",
    "> Bab pengenalan harus diisi dengan identitas, gambaran besar dataset yang digunakan, dan objective yang ingin dicapai.\n",
    "\n",
    "> Milestones ini dibuat guna mengevaluasi pembelajaran pada Hacktiv8 Data Science Fulltime Program khususnya pada Phase 1"
   ]
  },
  {
   "cell_type": "markdown",
   "metadata": {},
   "source": [
    "### Assignment Objectives\n",
    "\n",
    "> Milestones 2 ini dibuat guna mengevaluasi Pembelajaran Phase 1:\n",
    "\n",
    " - Mampu memahami konsep supervised learning dan unsupervised learning\n",
    " - Mampu mempersiapkan data untuk digunakan dalam model supervised learning dan unsupervised learning\n",
    " - Mampu mengimplementasikan supervised learning dan unsupervised learning dengan dataset yang baru\n",
    " -   Mampu melakukan evaluasi model\n",
    " -   Mampu melakukan model tuning\n",
    " -   Mampu melakukan model deployment\n"
   ]
  },
  {
   "cell_type": "markdown",
   "metadata": {},
   "source": [
    "* Nama        : Muhamad Ivan\n",
    "\n",
    "* Batch       : FTDS-013\n",
    "\n",
    "* Dataset     : Data Science Job Salaries - Salaries of jobs in the Data Science domain (https://www.kaggle.com/datasets/ruchi798/data-science-job-salaries)\n",
    "* Objective   : Membuat Model yang dapat mempredksi gaji seorang Data Scientist"
   ]
  },
  {
   "cell_type": "markdown",
   "metadata": {},
   "source": [
    "### Problem\n",
    "> Silakan memilih topik Milestones 2 antara Regression, Classification, atau Clustering.\n",
    "> Ketentuan Dataset\n",
    "\n",
    "- Pilihlah dataset yang paling nyaman digunakan karena tidak ada batasan untuk memilih dataset dalam mengerjakan Milestones 2.\n",
    "\n",
    "- Konsultasikan terlebih dahulu dataset yang hendak digunakan ke buddy masing-masing student. Jika disetujui, maka silakan d-ikerjakan. Jika tidak disetujui, maka cari dataset yang lain dan konsultasikan lagi mengenai dataset yang baru ini.\n",
    "\n",
    "- Student tidak boleh menggunakan dataset yang sudah dipakai dalam tugas Live Code, Graded Challenge, Non Graded Challenge, dan Milestone dari Phase 0 hingga Phase 1.\n",
    "\n",
    "-  Student juga tidak boleh menggunakan dataset yang sudah dipakai dalam sesi pembelajaran saat dikelas bersama instruktur. Carilah dataset yang baru untuk tugas Milestone 2 ini.\n",
    "\n",
    " -   Student dilarang untuk melakukan scraping dataset karena dikhawatirkan proses pembuatan scraper dan proses scraping akan memakan waktu. Gunakan public dataset yang tersedia diberbagai macam situs Internet."
   ]
  },
  {
   "cell_type": "markdown",
   "metadata": {},
   "source": [
    "# II - Import Libraries\n"
   ]
  },
  {
   "cell_type": "markdown",
   "metadata": {},
   "source": [
    "> Cell pertama pada notebook harus berisi dan hanya berisi semua library yang digunakan dalam project."
   ]
  },
  {
   "cell_type": "code",
   "execution_count": 1,
   "metadata": {},
   "outputs": [],
   "source": [
    "# Import Libraries\n",
    "\n",
    "import pandas as pd\n",
    "import numpy as np\n",
    "import seaborn as sns\n",
    "import matplotlib.pyplot as plt\n",
    "from sklearn.preprocessing import MinMaxScaler, OneHotEncoder, OrdinalEncoder\n",
    "from sklearn.model_selection import train_test_split\n",
    "from sklearn.model_selection import cross_val_score\n",
    "from sklearn.metrics import mean_absolute_error\n",
    "from sklearn.model_selection import GridSearchCV\n",
    "from sklearn.linear_model import LinearRegression\n",
    "from sklearn.linear_model import Lasso,Ridge\n",
    "from sklearn.tree import DecisionTreeRegressor\n",
    "from sklearn.svm import SVR\n",
    "from sklearn.pipeline import Pipeline\n",
    "from sklearn.compose import ColumnTransformer\n"
   ]
  },
  {
   "cell_type": "markdown",
   "metadata": {},
   "source": [
    "# III - Data Loading"
   ]
  },
  {
   "cell_type": "markdown",
   "metadata": {},
   "source": [
    "> Bagian ini berisi proses penyiapan data sebelum dilakukan eksplorasi data lebih lanjut. Proses Data Loading dapat berupa memberi nama baru untuk setiap kolom, mengecek ukuran dataset, dll."
   ]
  },
  {
   "cell_type": "code",
   "execution_count": 2,
   "metadata": {},
   "outputs": [],
   "source": [
    "# Load Dataset\n",
    "\n",
    "df = pd.read_csv('ds_salaries.csv')\n",
    "pd.set_option(\"display.max.columns\",None) # digunakan untuk menampilkan keseluruhan kolom pada dataset\n",
    "pd.set_option('display.max_row', 20)\n"
   ]
  },
  {
   "cell_type": "code",
   "execution_count": 3,
   "metadata": {},
   "outputs": [
    {
     "data": {
      "text/html": [
       "<div>\n",
       "<style scoped>\n",
       "    .dataframe tbody tr th:only-of-type {\n",
       "        vertical-align: middle;\n",
       "    }\n",
       "\n",
       "    .dataframe tbody tr th {\n",
       "        vertical-align: top;\n",
       "    }\n",
       "\n",
       "    .dataframe thead th {\n",
       "        text-align: right;\n",
       "    }\n",
       "</style>\n",
       "<table border=\"1\" class=\"dataframe\">\n",
       "  <thead>\n",
       "    <tr style=\"text-align: right;\">\n",
       "      <th></th>\n",
       "      <th>Unnamed: 0</th>\n",
       "      <th>work_year</th>\n",
       "      <th>experience_level</th>\n",
       "      <th>employment_type</th>\n",
       "      <th>job_title</th>\n",
       "      <th>salary</th>\n",
       "      <th>salary_currency</th>\n",
       "      <th>salary_in_usd</th>\n",
       "      <th>employee_residence</th>\n",
       "      <th>remote_ratio</th>\n",
       "      <th>company_location</th>\n",
       "      <th>company_size</th>\n",
       "    </tr>\n",
       "  </thead>\n",
       "  <tbody>\n",
       "    <tr>\n",
       "      <th>0</th>\n",
       "      <td>0</td>\n",
       "      <td>2020</td>\n",
       "      <td>MI</td>\n",
       "      <td>FT</td>\n",
       "      <td>Data Scientist</td>\n",
       "      <td>70000</td>\n",
       "      <td>EUR</td>\n",
       "      <td>79833</td>\n",
       "      <td>DE</td>\n",
       "      <td>0</td>\n",
       "      <td>DE</td>\n",
       "      <td>L</td>\n",
       "    </tr>\n",
       "    <tr>\n",
       "      <th>1</th>\n",
       "      <td>1</td>\n",
       "      <td>2020</td>\n",
       "      <td>SE</td>\n",
       "      <td>FT</td>\n",
       "      <td>Machine Learning Scientist</td>\n",
       "      <td>260000</td>\n",
       "      <td>USD</td>\n",
       "      <td>260000</td>\n",
       "      <td>JP</td>\n",
       "      <td>0</td>\n",
       "      <td>JP</td>\n",
       "      <td>S</td>\n",
       "    </tr>\n",
       "    <tr>\n",
       "      <th>2</th>\n",
       "      <td>2</td>\n",
       "      <td>2020</td>\n",
       "      <td>SE</td>\n",
       "      <td>FT</td>\n",
       "      <td>Big Data Engineer</td>\n",
       "      <td>85000</td>\n",
       "      <td>GBP</td>\n",
       "      <td>109024</td>\n",
       "      <td>GB</td>\n",
       "      <td>50</td>\n",
       "      <td>GB</td>\n",
       "      <td>M</td>\n",
       "    </tr>\n",
       "    <tr>\n",
       "      <th>3</th>\n",
       "      <td>3</td>\n",
       "      <td>2020</td>\n",
       "      <td>MI</td>\n",
       "      <td>FT</td>\n",
       "      <td>Product Data Analyst</td>\n",
       "      <td>20000</td>\n",
       "      <td>USD</td>\n",
       "      <td>20000</td>\n",
       "      <td>HN</td>\n",
       "      <td>0</td>\n",
       "      <td>HN</td>\n",
       "      <td>S</td>\n",
       "    </tr>\n",
       "    <tr>\n",
       "      <th>4</th>\n",
       "      <td>4</td>\n",
       "      <td>2020</td>\n",
       "      <td>SE</td>\n",
       "      <td>FT</td>\n",
       "      <td>Machine Learning Engineer</td>\n",
       "      <td>150000</td>\n",
       "      <td>USD</td>\n",
       "      <td>150000</td>\n",
       "      <td>US</td>\n",
       "      <td>50</td>\n",
       "      <td>US</td>\n",
       "      <td>L</td>\n",
       "    </tr>\n",
       "  </tbody>\n",
       "</table>\n",
       "</div>"
      ],
      "text/plain": [
       "   Unnamed: 0  work_year experience_level employment_type  \\\n",
       "0           0       2020               MI              FT   \n",
       "1           1       2020               SE              FT   \n",
       "2           2       2020               SE              FT   \n",
       "3           3       2020               MI              FT   \n",
       "4           4       2020               SE              FT   \n",
       "\n",
       "                    job_title  salary salary_currency  salary_in_usd  \\\n",
       "0              Data Scientist   70000             EUR          79833   \n",
       "1  Machine Learning Scientist  260000             USD         260000   \n",
       "2           Big Data Engineer   85000             GBP         109024   \n",
       "3        Product Data Analyst   20000             USD          20000   \n",
       "4   Machine Learning Engineer  150000             USD         150000   \n",
       "\n",
       "  employee_residence  remote_ratio company_location company_size  \n",
       "0                 DE             0               DE            L  \n",
       "1                 JP             0               JP            S  \n",
       "2                 GB            50               GB            M  \n",
       "3                 HN             0               HN            S  \n",
       "4                 US            50               US            L  "
      ]
     },
     "execution_count": 3,
     "metadata": {},
     "output_type": "execute_result"
    }
   ],
   "source": [
    "# Menampilkan Head\n",
    "df.head()"
   ]
  },
  {
   "cell_type": "code",
   "execution_count": 4,
   "metadata": {},
   "outputs": [
    {
     "data": {
      "text/html": [
       "<div>\n",
       "<style scoped>\n",
       "    .dataframe tbody tr th:only-of-type {\n",
       "        vertical-align: middle;\n",
       "    }\n",
       "\n",
       "    .dataframe tbody tr th {\n",
       "        vertical-align: top;\n",
       "    }\n",
       "\n",
       "    .dataframe thead th {\n",
       "        text-align: right;\n",
       "    }\n",
       "</style>\n",
       "<table border=\"1\" class=\"dataframe\">\n",
       "  <thead>\n",
       "    <tr style=\"text-align: right;\">\n",
       "      <th></th>\n",
       "      <th>Unnamed: 0</th>\n",
       "      <th>work_year</th>\n",
       "      <th>experience_level</th>\n",
       "      <th>employment_type</th>\n",
       "      <th>job_title</th>\n",
       "      <th>salary</th>\n",
       "      <th>salary_currency</th>\n",
       "      <th>salary_in_usd</th>\n",
       "      <th>employee_residence</th>\n",
       "      <th>remote_ratio</th>\n",
       "      <th>company_location</th>\n",
       "      <th>company_size</th>\n",
       "    </tr>\n",
       "  </thead>\n",
       "  <tbody>\n",
       "    <tr>\n",
       "      <th>602</th>\n",
       "      <td>602</td>\n",
       "      <td>2022</td>\n",
       "      <td>SE</td>\n",
       "      <td>FT</td>\n",
       "      <td>Data Engineer</td>\n",
       "      <td>154000</td>\n",
       "      <td>USD</td>\n",
       "      <td>154000</td>\n",
       "      <td>US</td>\n",
       "      <td>100</td>\n",
       "      <td>US</td>\n",
       "      <td>M</td>\n",
       "    </tr>\n",
       "    <tr>\n",
       "      <th>603</th>\n",
       "      <td>603</td>\n",
       "      <td>2022</td>\n",
       "      <td>SE</td>\n",
       "      <td>FT</td>\n",
       "      <td>Data Engineer</td>\n",
       "      <td>126000</td>\n",
       "      <td>USD</td>\n",
       "      <td>126000</td>\n",
       "      <td>US</td>\n",
       "      <td>100</td>\n",
       "      <td>US</td>\n",
       "      <td>M</td>\n",
       "    </tr>\n",
       "    <tr>\n",
       "      <th>604</th>\n",
       "      <td>604</td>\n",
       "      <td>2022</td>\n",
       "      <td>SE</td>\n",
       "      <td>FT</td>\n",
       "      <td>Data Analyst</td>\n",
       "      <td>129000</td>\n",
       "      <td>USD</td>\n",
       "      <td>129000</td>\n",
       "      <td>US</td>\n",
       "      <td>0</td>\n",
       "      <td>US</td>\n",
       "      <td>M</td>\n",
       "    </tr>\n",
       "    <tr>\n",
       "      <th>605</th>\n",
       "      <td>605</td>\n",
       "      <td>2022</td>\n",
       "      <td>SE</td>\n",
       "      <td>FT</td>\n",
       "      <td>Data Analyst</td>\n",
       "      <td>150000</td>\n",
       "      <td>USD</td>\n",
       "      <td>150000</td>\n",
       "      <td>US</td>\n",
       "      <td>100</td>\n",
       "      <td>US</td>\n",
       "      <td>M</td>\n",
       "    </tr>\n",
       "    <tr>\n",
       "      <th>606</th>\n",
       "      <td>606</td>\n",
       "      <td>2022</td>\n",
       "      <td>MI</td>\n",
       "      <td>FT</td>\n",
       "      <td>AI Scientist</td>\n",
       "      <td>200000</td>\n",
       "      <td>USD</td>\n",
       "      <td>200000</td>\n",
       "      <td>IN</td>\n",
       "      <td>100</td>\n",
       "      <td>US</td>\n",
       "      <td>L</td>\n",
       "    </tr>\n",
       "  </tbody>\n",
       "</table>\n",
       "</div>"
      ],
      "text/plain": [
       "     Unnamed: 0  work_year experience_level employment_type      job_title  \\\n",
       "602         602       2022               SE              FT  Data Engineer   \n",
       "603         603       2022               SE              FT  Data Engineer   \n",
       "604         604       2022               SE              FT   Data Analyst   \n",
       "605         605       2022               SE              FT   Data Analyst   \n",
       "606         606       2022               MI              FT   AI Scientist   \n",
       "\n",
       "     salary salary_currency  salary_in_usd employee_residence  remote_ratio  \\\n",
       "602  154000             USD         154000                 US           100   \n",
       "603  126000             USD         126000                 US           100   \n",
       "604  129000             USD         129000                 US             0   \n",
       "605  150000             USD         150000                 US           100   \n",
       "606  200000             USD         200000                 IN           100   \n",
       "\n",
       "    company_location company_size  \n",
       "602               US            M  \n",
       "603               US            M  \n",
       "604               US            M  \n",
       "605               US            M  \n",
       "606               US            L  "
      ]
     },
     "execution_count": 4,
     "metadata": {},
     "output_type": "execute_result"
    }
   ],
   "source": [
    "# Menampilkan Tail\n",
    "df.tail()"
   ]
  },
  {
   "cell_type": "code",
   "execution_count": 5,
   "metadata": {},
   "outputs": [],
   "source": [
    "# Duplikasi dataset\n",
    "df_copy = df.copy()"
   ]
  },
  {
   "cell_type": "code",
   "execution_count": 6,
   "metadata": {},
   "outputs": [
    {
     "data": {
      "text/plain": [
       "(607, 12)"
      ]
     },
     "execution_count": 6,
     "metadata": {},
     "output_type": "execute_result"
    }
   ],
   "source": [
    "# Menampilkan Jumlah Column dan Row\n",
    "df.shape"
   ]
  },
  {
   "cell_type": "code",
   "execution_count": 7,
   "metadata": {},
   "outputs": [
    {
     "name": "stdout",
     "output_type": "stream",
     "text": [
      "<class 'pandas.core.frame.DataFrame'>\n",
      "RangeIndex: 607 entries, 0 to 606\n",
      "Data columns (total 12 columns):\n",
      " #   Column              Non-Null Count  Dtype \n",
      "---  ------              --------------  ----- \n",
      " 0   Unnamed: 0          607 non-null    int64 \n",
      " 1   work_year           607 non-null    int64 \n",
      " 2   experience_level    607 non-null    object\n",
      " 3   employment_type     607 non-null    object\n",
      " 4   job_title           607 non-null    object\n",
      " 5   salary              607 non-null    int64 \n",
      " 6   salary_currency     607 non-null    object\n",
      " 7   salary_in_usd       607 non-null    int64 \n",
      " 8   employee_residence  607 non-null    object\n",
      " 9   remote_ratio        607 non-null    int64 \n",
      " 10  company_location    607 non-null    object\n",
      " 11  company_size        607 non-null    object\n",
      "dtypes: int64(5), object(7)\n",
      "memory usage: 57.0+ KB\n"
     ]
    }
   ],
   "source": [
    "# Menampilkan jumlah Missing Values\n",
    "df.info()"
   ]
  },
  {
   "cell_type": "markdown",
   "metadata": {},
   "source": [
    "***Pengertian* tiap-tiap kolom**\n",
    "\n",
    "!![informasi](informasi_kolom.png)"
   ]
  },
  {
   "cell_type": "code",
   "execution_count": 8,
   "metadata": {},
   "outputs": [
    {
     "data": {
      "text/html": [
       "<div>\n",
       "<style scoped>\n",
       "    .dataframe tbody tr th:only-of-type {\n",
       "        vertical-align: middle;\n",
       "    }\n",
       "\n",
       "    .dataframe tbody tr th {\n",
       "        vertical-align: top;\n",
       "    }\n",
       "\n",
       "    .dataframe thead th {\n",
       "        text-align: right;\n",
       "    }\n",
       "</style>\n",
       "<table border=\"1\" class=\"dataframe\">\n",
       "  <thead>\n",
       "    <tr style=\"text-align: right;\">\n",
       "      <th></th>\n",
       "      <th>count</th>\n",
       "      <th>mean</th>\n",
       "      <th>std</th>\n",
       "      <th>min</th>\n",
       "      <th>25%</th>\n",
       "      <th>50%</th>\n",
       "      <th>75%</th>\n",
       "      <th>max</th>\n",
       "    </tr>\n",
       "  </thead>\n",
       "  <tbody>\n",
       "    <tr>\n",
       "      <th>Unnamed: 0</th>\n",
       "      <td>607.0</td>\n",
       "      <td>303.000000</td>\n",
       "      <td>1.753701e+02</td>\n",
       "      <td>0.0</td>\n",
       "      <td>151.5</td>\n",
       "      <td>303.0</td>\n",
       "      <td>454.5</td>\n",
       "      <td>606.0</td>\n",
       "    </tr>\n",
       "    <tr>\n",
       "      <th>work_year</th>\n",
       "      <td>607.0</td>\n",
       "      <td>2021.405272</td>\n",
       "      <td>6.921330e-01</td>\n",
       "      <td>2020.0</td>\n",
       "      <td>2021.0</td>\n",
       "      <td>2022.0</td>\n",
       "      <td>2022.0</td>\n",
       "      <td>2022.0</td>\n",
       "    </tr>\n",
       "    <tr>\n",
       "      <th>salary</th>\n",
       "      <td>607.0</td>\n",
       "      <td>324000.062603</td>\n",
       "      <td>1.544357e+06</td>\n",
       "      <td>4000.0</td>\n",
       "      <td>70000.0</td>\n",
       "      <td>115000.0</td>\n",
       "      <td>165000.0</td>\n",
       "      <td>30400000.0</td>\n",
       "    </tr>\n",
       "    <tr>\n",
       "      <th>salary_in_usd</th>\n",
       "      <td>607.0</td>\n",
       "      <td>112297.869852</td>\n",
       "      <td>7.095726e+04</td>\n",
       "      <td>2859.0</td>\n",
       "      <td>62726.0</td>\n",
       "      <td>101570.0</td>\n",
       "      <td>150000.0</td>\n",
       "      <td>600000.0</td>\n",
       "    </tr>\n",
       "    <tr>\n",
       "      <th>remote_ratio</th>\n",
       "      <td>607.0</td>\n",
       "      <td>70.922570</td>\n",
       "      <td>4.070913e+01</td>\n",
       "      <td>0.0</td>\n",
       "      <td>50.0</td>\n",
       "      <td>100.0</td>\n",
       "      <td>100.0</td>\n",
       "      <td>100.0</td>\n",
       "    </tr>\n",
       "  </tbody>\n",
       "</table>\n",
       "</div>"
      ],
      "text/plain": [
       "               count           mean           std     min      25%       50%  \\\n",
       "Unnamed: 0     607.0     303.000000  1.753701e+02     0.0    151.5     303.0   \n",
       "work_year      607.0    2021.405272  6.921330e-01  2020.0   2021.0    2022.0   \n",
       "salary         607.0  324000.062603  1.544357e+06  4000.0  70000.0  115000.0   \n",
       "salary_in_usd  607.0  112297.869852  7.095726e+04  2859.0  62726.0  101570.0   \n",
       "remote_ratio   607.0      70.922570  4.070913e+01     0.0     50.0     100.0   \n",
       "\n",
       "                    75%         max  \n",
       "Unnamed: 0        454.5       606.0  \n",
       "work_year        2022.0      2022.0  \n",
       "salary         165000.0  30400000.0  \n",
       "salary_in_usd  150000.0    600000.0  \n",
       "remote_ratio      100.0       100.0  "
      ]
     },
     "execution_count": 8,
     "metadata": {},
     "output_type": "execute_result"
    }
   ],
   "source": [
    "# Melihat gambaran  terkait dataset\n",
    "df.describe().T"
   ]
  },
  {
   "cell_type": "markdown",
   "metadata": {},
   "source": [
    "***Informasi* Statistik Deskriptif**\n",
    "Diketahui dataset memiliki 12 kolom yang membahas mengenai gaji para data scientist dengan berbagai jabatan di berbagai negara. Berikut informasi yang dapat diambil dari data ini:\n",
    "- Terdapat 5 column interger dan 7 column object yang menandakan terdapat 5 kolom numerik dan 7 kolom kategorik\n",
    "- Dataset ini memiliki 607 row.\n",
    "- Tidak ditemukan missing value pada dataset ini.\n",
    "- Secara umum dataset ini berisi properties dari suatu jabatan data scientist seperti asal negara, pengalaman kerja, besarnya perusahaan, jabatan lebih spesifik dari data scientist.\n",
    "- Pembahasan mengenai data akan dibahas lebih dalam pada EDA.\n",
    "- Berdasarkan data statistik deskriptif ini column `salary` & `salary_in_usd` diasumsikan memiliki satuan per 1 tahun. Jadi angka yang tertera tersebut merupakan gaji seorang data scientist per tahun.\n",
    "    - Pada column `salary_in_usd` diketahui nilai minimal gaji Data Scientist sebesar 2859 USD/tahun dan nilai maksimum sebesar 600.000 USD/Tahun dengan median sebesar 112.300 USD/Tahun.\n"
   ]
  },
  {
   "cell_type": "markdown",
   "metadata": {},
   "source": [
    "# IV - Exploratory Data Analysis (EDA)"
   ]
  },
  {
   "cell_type": "markdown",
   "metadata": {},
   "source": [
    "> Bagian ini berisi eksplorasi data pada dataset diatas dengan menggunakan query, grouping, visualisasi sederhana, dan lain sebagainya.\n"
   ]
  },
  {
   "cell_type": "markdown",
   "metadata": {},
   "source": [
    "## ***A. EDA* *(Pie Chart)***"
   ]
  },
  {
   "cell_type": "code",
   "execution_count": 9,
   "metadata": {},
   "outputs": [
    {
     "data": {
      "image/png": "[encoded data removed]",
      "text/plain": [
       "<Figure size 1620x756 with 3 Axes>"
      ]
     },
     "metadata": {},
     "output_type": "display_data"
    }
   ],
   "source": [
    "# Pie Chart\n",
    "\n",
    "plt.figure(figsize=(22.5, 10.5),facecolor='white')\n",
    "plt.subplot(1, 3, 1)\n",
    "ax= df.groupby(by=['experience_level'])[['work_year']].count()\n",
    "colors = sns.color_palette('bright')\n",
    "plt.pie(ax['work_year'], labels = ax.index, colors = colors, autopct='%.0f%%')\n",
    "plt.legend(['EN: Entry-Level','EX: Executive-Level','MI: Mid-Level','SE: Senior-Level'],loc='lower right')\n",
    "plt.title('Pie of Experience Level in Data Scientist')\n",
    "\n",
    "plt.subplot(1, 3, 2)\n",
    "ax= df.groupby(by=['employment_type'])[['work_year']].count()\n",
    "colors = sns.color_palette('pastel')\n",
    "plt.pie(ax['work_year'], labels = ax.index, colors = colors, autopct='%.0f%%')\n",
    "plt.legend(['CT: Contract','FL: Freelance','FT: Full-Time','PT: Part-Time'],loc='lower right')\n",
    "plt.title('Pie of Type Employment in Data Scientist')\n",
    "\n",
    "plt.subplot(1, 3, 3)\n",
    "ax= df.groupby(by=['company_size'])[['work_year']].count()\n",
    "colors = sns.color_palette('bright')\n",
    "plt.pie(ax['work_year'], labels = ax.index, colors = colors, autopct='%.0f%%')\n",
    "plt.legend(['S: Small(<50 employee)','M: Medium(50~250 employee)','L: large(>250 employee)'],loc='lower right')\n",
    "plt.title('Pie of Company Size in Data Scientist')\n",
    "\n",
    "plt.show()"
   ]
  },
  {
   "cell_type": "markdown",
   "metadata": {},
   "source": [
    "> Insight:\n",
    "1. **Pie of Experience Level In Data Scientist**: Pie ini memberikan informasi kepada kita bahwa jumlah senior level di data ini paling banyak yaitu 46%. Kemudian diikuti secara berturut-turut yaitu Mid-level(35%), Entry-level(14%), dan Executive-level(4%). \n",
    " ` `\n",
    " \n",
    "2. **Pie of Type Employment In Data Scientist**: diketahui mayoritas data scientist status karyawannya adalah full-time(permanen) dengan 97%. Sedangkan untuk status lainnya seperti kontrak(1%), part-time(2%), dan freelance(1%).\n",
    "3. **Pie of Company Size In Data Scientist**: diketahui perusahaan yang mempekerjakan profesi data scientist dan turunannya paling banyak pada perusahaan kategori medium dengan persentase 54%. Sedangkan perusahaan small sebesar 33% dan large sebesar 14%."
   ]
  },
  {
   "cell_type": "code",
   "execution_count": 10,
   "metadata": {},
   "outputs": [
    {
     "data": {
      "text/plain": [
       "Text(0.5, 1.0, 'Pie of Job Title & Position in Data Scientist')"
      ]
     },
     "execution_count": 10,
     "metadata": {},
     "output_type": "execute_result"
    },
    {
     "data": {
      "image/png": "[encoded data removed]",
      "text/plain": [
       "<Figure size 1620x756 with 1 Axes>"
      ]
     },
     "metadata": {},
     "output_type": "display_data"
    }
   ],
   "source": [
    "# Pie Chart\n",
    "plt.figure(figsize=(22.5, 10.5),facecolor='white')\n",
    "ax= df.groupby(by=['job_title'])[['work_year']].count()\n",
    "colors = sns.color_palette('bright')\n",
    "plt.pie(ax['work_year'].sort_values(ascending=False), labels = ax['work_year'].sort_values(ascending=False).index, colors = colors, autopct='%.0f%%')\n",
    "plt.title('Pie of Job Title & Position in Data Scientist')"
   ]
  },
  {
   "cell_type": "markdown",
   "metadata": {},
   "source": [
    "> Insight:\n",
    "1. Berdasarkan grafik diketahui 5 posisi yang paling banyak dimiliki oleh para data scientist dan turunannya berturut-turut yaitu: Data Scientist `(24%)`, Data Engineer `(22%)`, Data Analyst `(16%)`, Machine Learning Engineer `(7%)`, dan Research Scientist `(3%)`. \n",
    "2. Sedangkan untuk 28% sisanya dibagi kedalam 45 posisi turunan pekerjaan data scientist."
   ]
  },
  {
   "cell_type": "markdown",
   "metadata": {},
   "source": [
    "## ***B. EDA* *(Histogram)***"
   ]
  },
  {
   "cell_type": "code",
   "execution_count": 11,
   "metadata": {},
   "outputs": [
    {
     "data": {
      "image/png": "[encoded data removed]",
      "text/plain": [
       "<Figure size 1440x360 with 1 Axes>"
      ]
     },
     "metadata": {
      "needs_background": "light"
     },
     "output_type": "display_data"
    }
   ],
   "source": [
    "plt.figure(figsize=(20,5))\n",
    "plt.title('Histogram of Balance Salary')\n",
    "sns.histplot(df['salary_in_usd'], bins=30, kde=True, color='green', element='bars',stat='percent')\n",
    "plt.xlabel('Salary (USD)')\n",
    "plt.ylabel('Percentage')\n",
    "\n",
    "plt.show()"
   ]
  },
  {
   "cell_type": "markdown",
   "metadata": {},
   "source": [
    "> Insight:\n",
    "1. Diketahui pendapat seorang data scientist umumnya adalah berkisar 90.000 USD ~ 100.000 USD. Data Scientist dengan pendapatan kisaran ini jumlahnya sebanyak 13% dari total dataset.\n",
    "2. Berdasarkan grafik jumlah orang yang memiliki pendapatan di atas 100.000 USD akan menurun secara teratur hingga mencapai gaji 280.000 USD.\n",
    "3. Pendapatan di atas 280.000 USD hanya diisi oleh posisi-posisi tertentu yang jumlahnya masing-masing kurang dari 1%."
   ]
  },
  {
   "cell_type": "code",
   "execution_count": 12,
   "metadata": {},
   "outputs": [
    {
     "data": {
      "text/plain": [
       "Text(0, 0.5, 'Number of Jobs')"
      ]
     },
     "execution_count": 12,
     "metadata": {},
     "output_type": "execute_result"
    },
    {
     "data": {
      "image/png": "[encoded data removed]",
      "text/plain": [
       "<Figure size 1440x360 with 1 Axes>"
      ]
     },
     "metadata": {
      "needs_background": "light"
     },
     "output_type": "display_data"
    }
   ],
   "source": [
    "plt.figure(figsize=(20,5))\n",
    "ax_df=df.groupby(by='company_location').count()[['company_size']].sort_values(by='company_size',ascending=False)\n",
    "plt.title('Number of Jobs By Country')\n",
    "plt.bar(data=ax_df, x=ax_df.index, height='company_size')\n",
    "plt.xlabel('Country')\n",
    "plt.ylabel('Number of Jobs')\n"
   ]
  },
  {
   "cell_type": "markdown",
   "metadata": {},
   "source": [
    "> Insight:\n",
    "1. Amerika adalah negara dengan pekerjaan Data Scientist terbanyak menurut dataset yang tersedia. Tentu ini berbanding lurus dengan kebutuhan Data Scientist di negara terebut.\n",
    "2. Banyaknya data scientist di Amerika dapat disebabkan karena telah berkembangnya pekerjaan yang merupakan turunan data scientist.\n",
    "3. Sebanyak 350 dari 607 pekerjaan Data Scientist yang ada di dataset berlokasi di Amerika. Dilanjutkan pada posisi 2 sebanyak 47."
   ]
  },
  {
   "cell_type": "code",
   "execution_count": 13,
   "metadata": {},
   "outputs": [
    {
     "data": {
      "image/png": "[encoded data removed]",
      "text/plain": [
       "<Figure size 1440x360 with 1 Axes>"
      ]
     },
     "metadata": {
      "needs_background": "light"
     },
     "output_type": "display_data"
    }
   ],
   "source": [
    "# Create Histogram and Scatter Plot\n",
    "\n",
    "plt.figure(figsize=(20, 5))\n",
    "sns.histplot(data=df,x=df['salary_in_usd'],hue=df['experience_level'], bins=120, kde=False,palette=\"dark\")\n",
    "plt.title('Histogram of Bill Of Debt & Debt Pay next Month ')\n",
    "\n",
    "plt.show()"
   ]
  },
  {
   "cell_type": "markdown",
   "metadata": {},
   "source": [
    "> Insight:\n",
    "1. Diketahui gaji tertiggi sebesar 600.000 USD/Tahun didapatkan oleh pekerja dengan experience level `Executive Level`\n",
    "2. Pekerjaan dengan gaji rendah di dominasi oleh `Entry level` walaupun juga terdapat Medium level\n",
    "3. Pekerjaan dengan gaji berkisar 35.000 ~ 100.000 didominasi oleh `Medium level`\n",
    "4. Sedangkan gaji kisaran 100.000 USD ~ 250.000 USD didominasi oleh karyawan dengan level pengalaman `senior level`\n",
    "5. Hal ini sesuai dengan kenyataan lapangan bahwa semakin tinggi kualifikasi dan pengalaman, semakin tinggi pula pendapatan."
   ]
  },
  {
   "cell_type": "code",
   "execution_count": 14,
   "metadata": {},
   "outputs": [
    {
     "data": {
      "text/plain": [
       "Text(0, 0.5, 'Count of Salary')"
      ]
     },
     "execution_count": 14,
     "metadata": {},
     "output_type": "execute_result"
    },
    {
     "data": {
      "image/png": "[encoded data removed]",
      "text/plain": [
       "<Figure size 1440x360 with 1 Axes>"
      ]
     },
     "metadata": {
      "needs_background": "light"
     },
     "output_type": "display_data"
    }
   ],
   "source": [
    "plt.figure(figsize=(20,5))\n",
    "plt.title('Histogram of Salary & Company Location')\n",
    "plt.hist(df['salary_in_usd'], sorted(df['salary_in_usd'].unique()),rwidth=0.9, color ='red')\n",
    "plt.hist(df['salary_in_usd'][(df['company_location']=='US')], sorted(df['salary_in_usd'].unique()),rwidth=0.9,color='green',alpha = 0.7)\n",
    "plt.legend(['Company outside USA', 'Company in USA'],loc='upper right')\n",
    "plt.xlabel('Salary')\n",
    "plt.ylabel('Count of Salary')"
   ]
  },
  {
   "cell_type": "markdown",
   "metadata": {},
   "source": [
    "> Insight:\n",
    "1. Dari grafik diketahui Data Scientist dengan gaji-gaji besar yaitu > 100.000 USD kebanyakan merupakan perusahaan yang berlokasi di Amerika\n",
    "2. Hal ini sesuai dengan grafik sebelumnya yang mengatakan 350 dari 607 pekerjaan Data Scientist berlokasi di Amerika.\n",
    "3. Amerika sebagai mata uang dunia dan salah satu negara maju tentu memiliki standar hidup yang tinggi sehingga mempengaruhi pendapatannya pula."
   ]
  },
  {
   "cell_type": "markdown",
   "metadata": {},
   "source": [
    "## ***C. EDA* *(Scatterplot)***"
   ]
  },
  {
   "cell_type": "code",
   "execution_count": 15,
   "metadata": {},
   "outputs": [
    {
     "data": {
      "text/plain": [
       "<matplotlib.legend.Legend at 0x2075818dac0>"
      ]
     },
     "execution_count": 15,
     "metadata": {},
     "output_type": "execute_result"
    },
    {
     "data": {
      "image/png": "[encoded data removed]",
      "text/plain": [
       "<Figure size 1440x360 with 1 Axes>"
      ]
     },
     "metadata": {
      "needs_background": "light"
     },
     "output_type": "display_data"
    }
   ],
   "source": [
    "plt.figure(figsize=(20, 5),frameon=True)\n",
    "sns.scatterplot(data=df, x=\"remote_ratio\", y='salary_in_usd',hue='company_size')\n",
    "plt.legend( loc =\"upper left\",ncol=9)"
   ]
  },
  {
   "cell_type": "markdown",
   "metadata": {},
   "source": [
    "> Insight:\n",
    "1. Diketahui karyawan yang bekerja 100% di kantor relatif memiliki gaji lebih tinggi dibandingkan karyawan yang 100% bekerja remote.\n",
    "2. Hal ini tentu sesuai dengan logika dimana ketika orang bekerja di kantor akan banyak pengeluaran seperti transportasi dan bensin, sehingga wajar dikompensasikan dengan gaji yang lebih besar.\n",
    "3. Dari grafik diketahui pula bahwa perusahaan large memberikan gaji lebih besar dibandingkan perusahaan medium. Hal ini terlihat pada remote raio 50 dan 100 dimana gaji tertinggi berasal dari perusahaan Large."
   ]
  },
  {
   "cell_type": "markdown",
   "metadata": {},
   "source": [
    "## ***D. EDA* *(Heatmap)***"
   ]
  },
  {
   "cell_type": "code",
   "execution_count": 16,
   "metadata": {},
   "outputs": [
    {
     "data": {
      "text/plain": [
       "<AxesSubplot:>"
      ]
     },
     "execution_count": 16,
     "metadata": {},
     "output_type": "execute_result"
    },
    {
     "data": {
      "image/png": "[encoded data removed]",
      "text/plain": [
       "<Figure size 720x720 with 2 Axes>"
      ]
     },
     "metadata": {
      "needs_background": "light"
     },
     "output_type": "display_data"
    }
   ],
   "source": [
    "corr = df.corr()\n",
    "f, ax = plt.subplots(figsize=(10, 10))\n",
    "\n",
    "# Generate a custom diverging colormap\n",
    "cmap = sns.diverging_palette(220, 10, as_cmap=True)\n",
    "\n",
    "# Draw the heatmap with the mask and correct aspect ratio\n",
    "sns.heatmap(corr, cmap=cmap, vmin=0,vmax=1, center=0,\n",
    "            square=True, linewidths=.5)"
   ]
  },
  {
   "cell_type": "markdown",
   "metadata": {},
   "source": [
    "> Insight:\n",
    "1. Berdasarkan grafik diketahui terdapat hubungan yang erat antara work_year dengan Unnamed: 0. Namun penulis mengetahui bahwa column Unnamed: 0 adalah nomor urut. Sehingga terdapat korelasi yang baik antara work_year dengan Unnamed: 0 adalah sebuah kebetulan.\n",
    "2. Pada tahap selanjutnya perlu dibuang column Unnamed: 0 karena hanya berisi nomor urut.\n",
    "3. Kolom selain Unnamed: 0 akan dipertahankan untuk dilakukan modeling."
   ]
  },
  {
   "cell_type": "markdown",
   "metadata": {},
   "source": [
    "# V - Data Preprocessing"
   ]
  },
  {
   "cell_type": "markdown",
   "metadata": {},
   "source": [
    "> Bagian ini berisi proses penyiapan data untuk proses pelatihan model, seperti pembagian data menjadi train-set dan inference-set, transformasi data (normalisasi, encoding, dll.), dan proses-proses lain yang dibutuhkan."
   ]
  },
  {
   "cell_type": "markdown",
   "metadata": {},
   "source": [
    "## **A. Feature Selection I**"
   ]
  },
  {
   "cell_type": "code",
   "execution_count": 17,
   "metadata": {},
   "outputs": [],
   "source": [
    "# Drop Column yang korelasinya tidak signifikan\n",
    "\n",
    "df.drop(columns=['Unnamed: 0','salary','salary_currency'],inplace=True)"
   ]
  },
  {
   "cell_type": "markdown",
   "metadata": {},
   "source": [
    "> Alasan Drop:\n",
    "- Drop Column `Unnamed: 0` karena hanya berisi nomor urut\n",
    "- Drop Column `salary` dan `salary_currency` karena gaji sudah dapat diwakili dengan kolom `salary_in_usd` "
   ]
  },
  {
   "cell_type": "code",
   "execution_count": 18,
   "metadata": {},
   "outputs": [
    {
     "data": {
      "text/html": [
       "<div>\n",
       "<style scoped>\n",
       "    .dataframe tbody tr th:only-of-type {\n",
       "        vertical-align: middle;\n",
       "    }\n",
       "\n",
       "    .dataframe tbody tr th {\n",
       "        vertical-align: top;\n",
       "    }\n",
       "\n",
       "    .dataframe thead th {\n",
       "        text-align: right;\n",
       "    }\n",
       "</style>\n",
       "<table border=\"1\" class=\"dataframe\">\n",
       "  <thead>\n",
       "    <tr style=\"text-align: right;\">\n",
       "      <th></th>\n",
       "      <th>work_year</th>\n",
       "      <th>experience_level</th>\n",
       "      <th>employment_type</th>\n",
       "      <th>job_title</th>\n",
       "      <th>salary_in_usd</th>\n",
       "      <th>employee_residence</th>\n",
       "      <th>remote_ratio</th>\n",
       "      <th>company_location</th>\n",
       "      <th>company_size</th>\n",
       "    </tr>\n",
       "  </thead>\n",
       "  <tbody>\n",
       "    <tr>\n",
       "      <th>0</th>\n",
       "      <td>2020</td>\n",
       "      <td>MI</td>\n",
       "      <td>FT</td>\n",
       "      <td>Data Scientist</td>\n",
       "      <td>79833</td>\n",
       "      <td>DE</td>\n",
       "      <td>0</td>\n",
       "      <td>DE</td>\n",
       "      <td>L</td>\n",
       "    </tr>\n",
       "    <tr>\n",
       "      <th>1</th>\n",
       "      <td>2020</td>\n",
       "      <td>SE</td>\n",
       "      <td>FT</td>\n",
       "      <td>Machine Learning Scientist</td>\n",
       "      <td>260000</td>\n",
       "      <td>JP</td>\n",
       "      <td>0</td>\n",
       "      <td>JP</td>\n",
       "      <td>S</td>\n",
       "    </tr>\n",
       "    <tr>\n",
       "      <th>2</th>\n",
       "      <td>2020</td>\n",
       "      <td>SE</td>\n",
       "      <td>FT</td>\n",
       "      <td>Big Data Engineer</td>\n",
       "      <td>109024</td>\n",
       "      <td>GB</td>\n",
       "      <td>50</td>\n",
       "      <td>GB</td>\n",
       "      <td>M</td>\n",
       "    </tr>\n",
       "    <tr>\n",
       "      <th>3</th>\n",
       "      <td>2020</td>\n",
       "      <td>MI</td>\n",
       "      <td>FT</td>\n",
       "      <td>Product Data Analyst</td>\n",
       "      <td>20000</td>\n",
       "      <td>HN</td>\n",
       "      <td>0</td>\n",
       "      <td>HN</td>\n",
       "      <td>S</td>\n",
       "    </tr>\n",
       "    <tr>\n",
       "      <th>4</th>\n",
       "      <td>2020</td>\n",
       "      <td>SE</td>\n",
       "      <td>FT</td>\n",
       "      <td>Machine Learning Engineer</td>\n",
       "      <td>150000</td>\n",
       "      <td>US</td>\n",
       "      <td>50</td>\n",
       "      <td>US</td>\n",
       "      <td>L</td>\n",
       "    </tr>\n",
       "  </tbody>\n",
       "</table>\n",
       "</div>"
      ],
      "text/plain": [
       "   work_year experience_level employment_type                   job_title  \\\n",
       "0       2020               MI              FT              Data Scientist   \n",
       "1       2020               SE              FT  Machine Learning Scientist   \n",
       "2       2020               SE              FT           Big Data Engineer   \n",
       "3       2020               MI              FT        Product Data Analyst   \n",
       "4       2020               SE              FT   Machine Learning Engineer   \n",
       "\n",
       "   salary_in_usd employee_residence  remote_ratio company_location  \\\n",
       "0          79833                 DE             0               DE   \n",
       "1         260000                 JP             0               JP   \n",
       "2         109024                 GB            50               GB   \n",
       "3          20000                 HN             0               HN   \n",
       "4         150000                 US            50               US   \n",
       "\n",
       "  company_size  \n",
       "0            L  \n",
       "1            S  \n",
       "2            M  \n",
       "3            S  \n",
       "4            L  "
      ]
     },
     "execution_count": 18,
     "metadata": {},
     "output_type": "execute_result"
    }
   ],
   "source": [
    "df.head()"
   ]
  },
  {
   "cell_type": "code",
   "execution_count": 19,
   "metadata": {},
   "outputs": [],
   "source": [
    "df= df[['work_year', 'experience_level', 'employment_type', 'job_title',\n",
    "       'employee_residence', 'remote_ratio',\n",
    "       'company_location', 'company_size','salary_in_usd']]\n"
   ]
  },
  {
   "cell_type": "code",
   "execution_count": 20,
   "metadata": {},
   "outputs": [],
   "source": [
    "df.rename(columns={'salary_in_usd': 'salary'}, inplace=True)"
   ]
  },
  {
   "cell_type": "markdown",
   "metadata": {},
   "source": [
    "> Catatan:\n",
    "1. Dilakukan drop terhadap column `Unnamed: 0`, `salary`, dan `salary_currency`\n",
    "2. Dilakukan rename terhadap column `salary_in_usd` menjadi `salary` untuk mempermudah penulisan\n",
    "3. Dilakukan pengaturan ulang tata letak column untuk mempermudah pengelihatan dengan memindahkan kolom `salary` ke ujung kanan"
   ]
  },
  {
   "cell_type": "markdown",
   "metadata": {},
   "source": [
    "## **B. Handling Missing Values**"
   ]
  },
  {
   "cell_type": "code",
   "execution_count": 21,
   "metadata": {},
   "outputs": [
    {
     "data": {
      "text/html": [
       "<div>\n",
       "<style scoped>\n",
       "    .dataframe tbody tr th:only-of-type {\n",
       "        vertical-align: middle;\n",
       "    }\n",
       "\n",
       "    .dataframe tbody tr th {\n",
       "        vertical-align: top;\n",
       "    }\n",
       "\n",
       "    .dataframe thead th {\n",
       "        text-align: right;\n",
       "    }\n",
       "</style>\n",
       "<table border=\"1\" class=\"dataframe\">\n",
       "  <thead>\n",
       "    <tr style=\"text-align: right;\">\n",
       "      <th></th>\n",
       "      <th>column_name</th>\n",
       "      <th>percent_missing</th>\n",
       "    </tr>\n",
       "  </thead>\n",
       "  <tbody>\n",
       "    <tr>\n",
       "      <th>work_year</th>\n",
       "      <td>work_year</td>\n",
       "      <td>0.0</td>\n",
       "    </tr>\n",
       "    <tr>\n",
       "      <th>experience_level</th>\n",
       "      <td>experience_level</td>\n",
       "      <td>0.0</td>\n",
       "    </tr>\n",
       "    <tr>\n",
       "      <th>employment_type</th>\n",
       "      <td>employment_type</td>\n",
       "      <td>0.0</td>\n",
       "    </tr>\n",
       "    <tr>\n",
       "      <th>job_title</th>\n",
       "      <td>job_title</td>\n",
       "      <td>0.0</td>\n",
       "    </tr>\n",
       "    <tr>\n",
       "      <th>employee_residence</th>\n",
       "      <td>employee_residence</td>\n",
       "      <td>0.0</td>\n",
       "    </tr>\n",
       "  </tbody>\n",
       "</table>\n",
       "</div>"
      ],
      "text/plain": [
       "                           column_name  percent_missing\n",
       "work_year                    work_year              0.0\n",
       "experience_level      experience_level              0.0\n",
       "employment_type        employment_type              0.0\n",
       "job_title                    job_title              0.0\n",
       "employee_residence  employee_residence              0.0"
      ]
     },
     "execution_count": 21,
     "metadata": {},
     "output_type": "execute_result"
    }
   ],
   "source": [
    "percent_missing = df.isnull().sum() * 100 / len(df)\n",
    "missing_value_df = pd.DataFrame({'column_name': df.columns,\n",
    "                                 'percent_missing': percent_missing})\n",
    "missing_value_df.sort_values('percent_missing', inplace=True,ascending=False)\n",
    "missing_value_df.head()"
   ]
  },
  {
   "cell_type": "markdown",
   "metadata": {},
   "source": [
    "> Catatan:\n",
    "1. Tidak ditemukan adanya missing value"
   ]
  },
  {
   "cell_type": "markdown",
   "metadata": {},
   "source": [
    "## **C. Get Data for Model Inference**"
   ]
  },
  {
   "cell_type": "code",
   "execution_count": 22,
   "metadata": {},
   "outputs": [
    {
     "data": {
      "text/plain": [
       "(10, 9)"
      ]
     },
     "execution_count": 22,
     "metadata": {},
     "output_type": "execute_result"
    }
   ],
   "source": [
    "# Get Data for Model Inference\n",
    "\n",
    "df_inf = df.sample(10, random_state=26)\n",
    "df_inf.shape"
   ]
  },
  {
   "cell_type": "markdown",
   "metadata": {},
   "source": [
    "` mengambil 10 data untuk menjadi model inference atau dataset baru `"
   ]
  },
  {
   "cell_type": "code",
   "execution_count": 23,
   "metadata": {},
   "outputs": [
    {
     "data": {
      "text/plain": [
       "(597, 9)"
      ]
     },
     "execution_count": 23,
     "metadata": {},
     "output_type": "execute_result"
    }
   ],
   "source": [
    "# Remove Inference-Set from Dataset\n",
    "df_train_test = df.drop(df_inf.index)\n",
    "df_train_test.shape"
   ]
  },
  {
   "cell_type": "markdown",
   "metadata": {},
   "source": [
    "` Membuang 10 row data yang dijadikan inference dari dataset keseluruhan `"
   ]
  },
  {
   "cell_type": "code",
   "execution_count": 24,
   "metadata": {},
   "outputs": [
    {
     "data": {
      "text/html": [
       "<div>\n",
       "<style scoped>\n",
       "    .dataframe tbody tr th:only-of-type {\n",
       "        vertical-align: middle;\n",
       "    }\n",
       "\n",
       "    .dataframe tbody tr th {\n",
       "        vertical-align: top;\n",
       "    }\n",
       "\n",
       "    .dataframe thead th {\n",
       "        text-align: right;\n",
       "    }\n",
       "</style>\n",
       "<table border=\"1\" class=\"dataframe\">\n",
       "  <thead>\n",
       "    <tr style=\"text-align: right;\">\n",
       "      <th></th>\n",
       "      <th>work_year</th>\n",
       "      <th>experience_level</th>\n",
       "      <th>employment_type</th>\n",
       "      <th>job_title</th>\n",
       "      <th>employee_residence</th>\n",
       "      <th>remote_ratio</th>\n",
       "      <th>company_location</th>\n",
       "      <th>company_size</th>\n",
       "      <th>salary</th>\n",
       "    </tr>\n",
       "  </thead>\n",
       "  <tbody>\n",
       "    <tr>\n",
       "      <th>0</th>\n",
       "      <td>2021</td>\n",
       "      <td>SE</td>\n",
       "      <td>FT</td>\n",
       "      <td>Principal Data Scientist</td>\n",
       "      <td>US</td>\n",
       "      <td>0</td>\n",
       "      <td>US</td>\n",
       "      <td>L</td>\n",
       "      <td>220000</td>\n",
       "    </tr>\n",
       "    <tr>\n",
       "      <th>1</th>\n",
       "      <td>2022</td>\n",
       "      <td>SE</td>\n",
       "      <td>FT</td>\n",
       "      <td>Data Scientist</td>\n",
       "      <td>US</td>\n",
       "      <td>0</td>\n",
       "      <td>US</td>\n",
       "      <td>M</td>\n",
       "      <td>140400</td>\n",
       "    </tr>\n",
       "    <tr>\n",
       "      <th>2</th>\n",
       "      <td>2021</td>\n",
       "      <td>MI</td>\n",
       "      <td>FT</td>\n",
       "      <td>Data Scientist</td>\n",
       "      <td>CA</td>\n",
       "      <td>100</td>\n",
       "      <td>CA</td>\n",
       "      <td>L</td>\n",
       "      <td>75774</td>\n",
       "    </tr>\n",
       "    <tr>\n",
       "      <th>3</th>\n",
       "      <td>2022</td>\n",
       "      <td>SE</td>\n",
       "      <td>FT</td>\n",
       "      <td>Data Analyst</td>\n",
       "      <td>US</td>\n",
       "      <td>0</td>\n",
       "      <td>US</td>\n",
       "      <td>M</td>\n",
       "      <td>164000</td>\n",
       "    </tr>\n",
       "    <tr>\n",
       "      <th>4</th>\n",
       "      <td>2022</td>\n",
       "      <td>MI</td>\n",
       "      <td>FT</td>\n",
       "      <td>Data Engineer</td>\n",
       "      <td>ES</td>\n",
       "      <td>100</td>\n",
       "      <td>ES</td>\n",
       "      <td>M</td>\n",
       "      <td>76940</td>\n",
       "    </tr>\n",
       "    <tr>\n",
       "      <th>5</th>\n",
       "      <td>2021</td>\n",
       "      <td>MI</td>\n",
       "      <td>FT</td>\n",
       "      <td>Data Scientist</td>\n",
       "      <td>DE</td>\n",
       "      <td>50</td>\n",
       "      <td>DE</td>\n",
       "      <td>L</td>\n",
       "      <td>90734</td>\n",
       "    </tr>\n",
       "    <tr>\n",
       "      <th>6</th>\n",
       "      <td>2022</td>\n",
       "      <td>MI</td>\n",
       "      <td>FT</td>\n",
       "      <td>Data Scientist</td>\n",
       "      <td>US</td>\n",
       "      <td>100</td>\n",
       "      <td>US</td>\n",
       "      <td>M</td>\n",
       "      <td>200000</td>\n",
       "    </tr>\n",
       "    <tr>\n",
       "      <th>7</th>\n",
       "      <td>2020</td>\n",
       "      <td>EN</td>\n",
       "      <td>FT</td>\n",
       "      <td>Data Scientist</td>\n",
       "      <td>US</td>\n",
       "      <td>100</td>\n",
       "      <td>US</td>\n",
       "      <td>S</td>\n",
       "      <td>105000</td>\n",
       "    </tr>\n",
       "    <tr>\n",
       "      <th>8</th>\n",
       "      <td>2022</td>\n",
       "      <td>SE</td>\n",
       "      <td>FT</td>\n",
       "      <td>Data Scientist</td>\n",
       "      <td>GB</td>\n",
       "      <td>0</td>\n",
       "      <td>GB</td>\n",
       "      <td>M</td>\n",
       "      <td>117789</td>\n",
       "    </tr>\n",
       "    <tr>\n",
       "      <th>9</th>\n",
       "      <td>2021</td>\n",
       "      <td>SE</td>\n",
       "      <td>FT</td>\n",
       "      <td>Data Analyst</td>\n",
       "      <td>CA</td>\n",
       "      <td>100</td>\n",
       "      <td>CA</td>\n",
       "      <td>M</td>\n",
       "      <td>71786</td>\n",
       "    </tr>\n",
       "  </tbody>\n",
       "</table>\n",
       "</div>"
      ],
      "text/plain": [
       "   work_year experience_level employment_type                 job_title  \\\n",
       "0       2021               SE              FT  Principal Data Scientist   \n",
       "1       2022               SE              FT            Data Scientist   \n",
       "2       2021               MI              FT            Data Scientist   \n",
       "3       2022               SE              FT              Data Analyst   \n",
       "4       2022               MI              FT             Data Engineer   \n",
       "5       2021               MI              FT            Data Scientist   \n",
       "6       2022               MI              FT            Data Scientist   \n",
       "7       2020               EN              FT            Data Scientist   \n",
       "8       2022               SE              FT            Data Scientist   \n",
       "9       2021               SE              FT              Data Analyst   \n",
       "\n",
       "  employee_residence  remote_ratio company_location company_size  salary  \n",
       "0                 US             0               US            L  220000  \n",
       "1                 US             0               US            M  140400  \n",
       "2                 CA           100               CA            L   75774  \n",
       "3                 US             0               US            M  164000  \n",
       "4                 ES           100               ES            M   76940  \n",
       "5                 DE            50               DE            L   90734  \n",
       "6                 US           100               US            M  200000  \n",
       "7                 US           100               US            S  105000  \n",
       "8                 GB             0               GB            M  117789  \n",
       "9                 CA           100               CA            M   71786  "
      ]
     },
     "execution_count": 24,
     "metadata": {},
     "output_type": "execute_result"
    }
   ],
   "source": [
    "# Reset Index\n",
    "df_train_test.reset_index(drop=True, inplace=True)\n",
    "df_inf.reset_index(drop=True, inplace=True)\n",
    "df_inf"
   ]
  },
  {
   "cell_type": "markdown",
   "metadata": {},
   "source": [
    "` dilakukan reset index untuk menyamakan index akibat dari 10 row yang diambil `"
   ]
  },
  {
   "cell_type": "markdown",
   "metadata": {},
   "source": [
    "## **D. *Splitting Dataset***"
   ]
  },
  {
   "cell_type": "code",
   "execution_count": 25,
   "metadata": {},
   "outputs": [
    {
     "data": {
      "text/html": [
       "<div>\n",
       "<style scoped>\n",
       "    .dataframe tbody tr th:only-of-type {\n",
       "        vertical-align: middle;\n",
       "    }\n",
       "\n",
       "    .dataframe tbody tr th {\n",
       "        vertical-align: top;\n",
       "    }\n",
       "\n",
       "    .dataframe thead th {\n",
       "        text-align: right;\n",
       "    }\n",
       "</style>\n",
       "<table border=\"1\" class=\"dataframe\">\n",
       "  <thead>\n",
       "    <tr style=\"text-align: right;\">\n",
       "      <th></th>\n",
       "      <th>work_year</th>\n",
       "      <th>experience_level</th>\n",
       "      <th>employment_type</th>\n",
       "      <th>job_title</th>\n",
       "      <th>employee_residence</th>\n",
       "      <th>remote_ratio</th>\n",
       "      <th>company_location</th>\n",
       "      <th>company_size</th>\n",
       "      <th>salary</th>\n",
       "    </tr>\n",
       "  </thead>\n",
       "  <tbody>\n",
       "    <tr>\n",
       "      <th>0</th>\n",
       "      <td>2020</td>\n",
       "      <td>MI</td>\n",
       "      <td>FT</td>\n",
       "      <td>Data Scientist</td>\n",
       "      <td>DE</td>\n",
       "      <td>0</td>\n",
       "      <td>DE</td>\n",
       "      <td>L</td>\n",
       "      <td>79833</td>\n",
       "    </tr>\n",
       "  </tbody>\n",
       "</table>\n",
       "</div>"
      ],
      "text/plain": [
       "   work_year experience_level employment_type       job_title  \\\n",
       "0       2020               MI              FT  Data Scientist   \n",
       "\n",
       "  employee_residence  remote_ratio company_location company_size  salary  \n",
       "0                 DE             0               DE            L   79833  "
      ]
     },
     "execution_count": 25,
     "metadata": {},
     "output_type": "execute_result"
    }
   ],
   "source": [
    "df_train_test.head(1)"
   ]
  },
  {
   "cell_type": "code",
   "execution_count": 26,
   "metadata": {},
   "outputs": [
    {
     "data": {
      "text/html": [
       "<div>\n",
       "<style scoped>\n",
       "    .dataframe tbody tr th:only-of-type {\n",
       "        vertical-align: middle;\n",
       "    }\n",
       "\n",
       "    .dataframe tbody tr th {\n",
       "        vertical-align: top;\n",
       "    }\n",
       "\n",
       "    .dataframe thead th {\n",
       "        text-align: right;\n",
       "    }\n",
       "</style>\n",
       "<table border=\"1\" class=\"dataframe\">\n",
       "  <thead>\n",
       "    <tr style=\"text-align: right;\">\n",
       "      <th></th>\n",
       "      <th>work_year</th>\n",
       "      <th>experience_level</th>\n",
       "      <th>employment_type</th>\n",
       "      <th>job_title</th>\n",
       "      <th>employee_residence</th>\n",
       "      <th>remote_ratio</th>\n",
       "      <th>company_location</th>\n",
       "      <th>company_size</th>\n",
       "    </tr>\n",
       "  </thead>\n",
       "  <tbody>\n",
       "    <tr>\n",
       "      <th>0</th>\n",
       "      <td>2020</td>\n",
       "      <td>MI</td>\n",
       "      <td>FT</td>\n",
       "      <td>Data Scientist</td>\n",
       "      <td>DE</td>\n",
       "      <td>0</td>\n",
       "      <td>DE</td>\n",
       "      <td>L</td>\n",
       "    </tr>\n",
       "    <tr>\n",
       "      <th>1</th>\n",
       "      <td>2020</td>\n",
       "      <td>SE</td>\n",
       "      <td>FT</td>\n",
       "      <td>Machine Learning Scientist</td>\n",
       "      <td>JP</td>\n",
       "      <td>0</td>\n",
       "      <td>JP</td>\n",
       "      <td>S</td>\n",
       "    </tr>\n",
       "    <tr>\n",
       "      <th>2</th>\n",
       "      <td>2020</td>\n",
       "      <td>SE</td>\n",
       "      <td>FT</td>\n",
       "      <td>Big Data Engineer</td>\n",
       "      <td>GB</td>\n",
       "      <td>50</td>\n",
       "      <td>GB</td>\n",
       "      <td>M</td>\n",
       "    </tr>\n",
       "    <tr>\n",
       "      <th>3</th>\n",
       "      <td>2020</td>\n",
       "      <td>MI</td>\n",
       "      <td>FT</td>\n",
       "      <td>Product Data Analyst</td>\n",
       "      <td>HN</td>\n",
       "      <td>0</td>\n",
       "      <td>HN</td>\n",
       "      <td>S</td>\n",
       "    </tr>\n",
       "    <tr>\n",
       "      <th>4</th>\n",
       "      <td>2020</td>\n",
       "      <td>SE</td>\n",
       "      <td>FT</td>\n",
       "      <td>Machine Learning Engineer</td>\n",
       "      <td>US</td>\n",
       "      <td>50</td>\n",
       "      <td>US</td>\n",
       "      <td>L</td>\n",
       "    </tr>\n",
       "    <tr>\n",
       "      <th>...</th>\n",
       "      <td>...</td>\n",
       "      <td>...</td>\n",
       "      <td>...</td>\n",
       "      <td>...</td>\n",
       "      <td>...</td>\n",
       "      <td>...</td>\n",
       "      <td>...</td>\n",
       "      <td>...</td>\n",
       "    </tr>\n",
       "    <tr>\n",
       "      <th>592</th>\n",
       "      <td>2022</td>\n",
       "      <td>SE</td>\n",
       "      <td>FT</td>\n",
       "      <td>Data Engineer</td>\n",
       "      <td>US</td>\n",
       "      <td>100</td>\n",
       "      <td>US</td>\n",
       "      <td>M</td>\n",
       "    </tr>\n",
       "    <tr>\n",
       "      <th>593</th>\n",
       "      <td>2022</td>\n",
       "      <td>SE</td>\n",
       "      <td>FT</td>\n",
       "      <td>Data Engineer</td>\n",
       "      <td>US</td>\n",
       "      <td>100</td>\n",
       "      <td>US</td>\n",
       "      <td>M</td>\n",
       "    </tr>\n",
       "    <tr>\n",
       "      <th>594</th>\n",
       "      <td>2022</td>\n",
       "      <td>SE</td>\n",
       "      <td>FT</td>\n",
       "      <td>Data Analyst</td>\n",
       "      <td>US</td>\n",
       "      <td>0</td>\n",
       "      <td>US</td>\n",
       "      <td>M</td>\n",
       "    </tr>\n",
       "    <tr>\n",
       "      <th>595</th>\n",
       "      <td>2022</td>\n",
       "      <td>SE</td>\n",
       "      <td>FT</td>\n",
       "      <td>Data Analyst</td>\n",
       "      <td>US</td>\n",
       "      <td>100</td>\n",
       "      <td>US</td>\n",
       "      <td>M</td>\n",
       "    </tr>\n",
       "    <tr>\n",
       "      <th>596</th>\n",
       "      <td>2022</td>\n",
       "      <td>MI</td>\n",
       "      <td>FT</td>\n",
       "      <td>AI Scientist</td>\n",
       "      <td>IN</td>\n",
       "      <td>100</td>\n",
       "      <td>US</td>\n",
       "      <td>L</td>\n",
       "    </tr>\n",
       "  </tbody>\n",
       "</table>\n",
       "<p>597 rows × 8 columns</p>\n",
       "</div>"
      ],
      "text/plain": [
       "     work_year experience_level employment_type                   job_title  \\\n",
       "0         2020               MI              FT              Data Scientist   \n",
       "1         2020               SE              FT  Machine Learning Scientist   \n",
       "2         2020               SE              FT           Big Data Engineer   \n",
       "3         2020               MI              FT        Product Data Analyst   \n",
       "4         2020               SE              FT   Machine Learning Engineer   \n",
       "..         ...              ...             ...                         ...   \n",
       "592       2022               SE              FT               Data Engineer   \n",
       "593       2022               SE              FT               Data Engineer   \n",
       "594       2022               SE              FT                Data Analyst   \n",
       "595       2022               SE              FT                Data Analyst   \n",
       "596       2022               MI              FT                AI Scientist   \n",
       "\n",
       "    employee_residence  remote_ratio company_location company_size  \n",
       "0                   DE             0               DE            L  \n",
       "1                   JP             0               JP            S  \n",
       "2                   GB            50               GB            M  \n",
       "3                   HN             0               HN            S  \n",
       "4                   US            50               US            L  \n",
       "..                 ...           ...              ...          ...  \n",
       "592                 US           100               US            M  \n",
       "593                 US           100               US            M  \n",
       "594                 US             0               US            M  \n",
       "595                 US           100               US            M  \n",
       "596                 IN           100               US            L  \n",
       "\n",
       "[597 rows x 8 columns]"
      ]
     },
     "execution_count": 26,
     "metadata": {},
     "output_type": "execute_result"
    }
   ],
   "source": [
    "# Split between `X` (Features) and `y` (Target)\n",
    "\n",
    "X = df_train_test.drop('salary', axis=1)\n",
    "y = df_train_test['salary']\n",
    "X"
   ]
  },
  {
   "cell_type": "code",
   "execution_count": 27,
   "metadata": {},
   "outputs": [
    {
     "name": "stdout",
     "output_type": "stream",
     "text": [
      "Train Size :  (477, 8)\n",
      "Test Size  :  (120, 8)\n"
     ]
    }
   ],
   "source": [
    "# Split between Train-Set and Test-Set\n",
    "\n",
    "X_train, X_test, y_train, y_test = train_test_split(X, y, test_size=0.2, random_state=17)\n",
    "\n",
    "print('Train Size : ', X_train.shape)\n",
    "print('Test Size  : ', X_test.shape)"
   ]
  },
  {
   "cell_type": "markdown",
   "metadata": {},
   "source": [
    "> Catatan:\n",
    "1. Dilakukan drop terhadap column `salary` karena tujuan dari permodelan ini adalah melakukan prediksi terhadap gaji data scientist. Sehingga column `salary` dijadikan kolom target.\n",
    "2. Kemudian dilakukan split terhadap data, sehingga menjadi data Train dan data Test. Pada data Train terdapat (477 row dan 8 column). Kemudian pada data Test terdapat (120 row dan 8 column)."
   ]
  },
  {
   "cell_type": "markdown",
   "metadata": {},
   "source": [
    "## **E. *Handling Outlier***"
   ]
  },
  {
   "cell_type": "code",
   "execution_count": 28,
   "metadata": {},
   "outputs": [
    {
     "data": {
      "text/html": [
       "<div>\n",
       "<style scoped>\n",
       "    .dataframe tbody tr th:only-of-type {\n",
       "        vertical-align: middle;\n",
       "    }\n",
       "\n",
       "    .dataframe tbody tr th {\n",
       "        vertical-align: top;\n",
       "    }\n",
       "\n",
       "    .dataframe thead th {\n",
       "        text-align: right;\n",
       "    }\n",
       "</style>\n",
       "<table border=\"1\" class=\"dataframe\">\n",
       "  <thead>\n",
       "    <tr style=\"text-align: right;\">\n",
       "      <th></th>\n",
       "      <th>Skewness</th>\n",
       "    </tr>\n",
       "  </thead>\n",
       "  <tbody>\n",
       "    <tr>\n",
       "      <th>work_year</th>\n",
       "      <td>-0.697115</td>\n",
       "    </tr>\n",
       "    <tr>\n",
       "      <th>remote_ratio</th>\n",
       "      <td>-0.897626</td>\n",
       "    </tr>\n",
       "  </tbody>\n",
       "</table>\n",
       "</div>"
      ],
      "text/plain": [
       "              Skewness\n",
       "work_year    -0.697115\n",
       "remote_ratio -0.897626"
      ]
     },
     "execution_count": 28,
     "metadata": {},
     "output_type": "execute_result"
    }
   ],
   "source": [
    "pd.DataFrame(X_train.skew(numeric_only=True),columns=['Skewness'])"
   ]
  },
  {
   "cell_type": "markdown",
   "metadata": {},
   "source": [
    "> Catatan:\n",
    "1. Diketahui dari data diatas terdapat 2 column numerik yang dapat dikategorikan Skew karena memiliki gradeness of skew  <-0.5 sehingga harus dilakukan scaling dengan MinMaxScaler. \n",
    "2. Penulis tidak ingin menggunakan metode Trimming karena data dari dataset ini sudah cukup sedikit. Ditakutkan training tidak maksimal jika dikurangi.\n",
    "3. Kemudian tidak dilakukan windsorizer(capping) karena penulis yakin bahwa outlier pada dataset ini adalah natural. Outlier natural yang berasal dari gaji para Data Scientist di negara Amerika."
   ]
  },
  {
   "cell_type": "markdown",
   "metadata": {},
   "source": [
    "## **F. *Feature Scaling & Encoding***"
   ]
  },
  {
   "cell_type": "code",
   "execution_count": 29,
   "metadata": {},
   "outputs": [
    {
     "data": {
      "text/html": [
       "<div>\n",
       "<style scoped>\n",
       "    .dataframe tbody tr th:only-of-type {\n",
       "        vertical-align: middle;\n",
       "    }\n",
       "\n",
       "    .dataframe tbody tr th {\n",
       "        vertical-align: top;\n",
       "    }\n",
       "\n",
       "    .dataframe thead th {\n",
       "        text-align: right;\n",
       "    }\n",
       "</style>\n",
       "<table border=\"1\" class=\"dataframe\">\n",
       "  <thead>\n",
       "    <tr style=\"text-align: right;\">\n",
       "      <th></th>\n",
       "      <th>work_year</th>\n",
       "      <th>experience_level</th>\n",
       "      <th>employment_type</th>\n",
       "      <th>job_title</th>\n",
       "      <th>employee_residence</th>\n",
       "      <th>remote_ratio</th>\n",
       "      <th>company_location</th>\n",
       "      <th>company_size</th>\n",
       "    </tr>\n",
       "  </thead>\n",
       "  <tbody>\n",
       "    <tr>\n",
       "      <th>588</th>\n",
       "      <td>2022</td>\n",
       "      <td>MI</td>\n",
       "      <td>FT</td>\n",
       "      <td>Data Scientist</td>\n",
       "      <td>US</td>\n",
       "      <td>100</td>\n",
       "      <td>US</td>\n",
       "      <td>M</td>\n",
       "    </tr>\n",
       "    <tr>\n",
       "      <th>280</th>\n",
       "      <td>2021</td>\n",
       "      <td>SE</td>\n",
       "      <td>FT</td>\n",
       "      <td>Data Science Manager</td>\n",
       "      <td>IN</td>\n",
       "      <td>50</td>\n",
       "      <td>IN</td>\n",
       "      <td>L</td>\n",
       "    </tr>\n",
       "    <tr>\n",
       "      <th>154</th>\n",
       "      <td>2021</td>\n",
       "      <td>MI</td>\n",
       "      <td>FT</td>\n",
       "      <td>Applied Machine Learning Scientist</td>\n",
       "      <td>US</td>\n",
       "      <td>50</td>\n",
       "      <td>US</td>\n",
       "      <td>L</td>\n",
       "    </tr>\n",
       "    <tr>\n",
       "      <th>225</th>\n",
       "      <td>2021</td>\n",
       "      <td>EN</td>\n",
       "      <td>FT</td>\n",
       "      <td>Big Data Engineer</td>\n",
       "      <td>IN</td>\n",
       "      <td>100</td>\n",
       "      <td>IN</td>\n",
       "      <td>L</td>\n",
       "    </tr>\n",
       "    <tr>\n",
       "      <th>564</th>\n",
       "      <td>2022</td>\n",
       "      <td>SE</td>\n",
       "      <td>FT</td>\n",
       "      <td>Data Scientist</td>\n",
       "      <td>US</td>\n",
       "      <td>100</td>\n",
       "      <td>US</td>\n",
       "      <td>M</td>\n",
       "    </tr>\n",
       "  </tbody>\n",
       "</table>\n",
       "</div>"
      ],
      "text/plain": [
       "     work_year experience_level employment_type  \\\n",
       "588       2022               MI              FT   \n",
       "280       2021               SE              FT   \n",
       "154       2021               MI              FT   \n",
       "225       2021               EN              FT   \n",
       "564       2022               SE              FT   \n",
       "\n",
       "                              job_title employee_residence  remote_ratio  \\\n",
       "588                      Data Scientist                 US           100   \n",
       "280                Data Science Manager                 IN            50   \n",
       "154  Applied Machine Learning Scientist                 US            50   \n",
       "225                   Big Data Engineer                 IN           100   \n",
       "564                      Data Scientist                 US           100   \n",
       "\n",
       "    company_location company_size  \n",
       "588               US            M  \n",
       "280               IN            L  \n",
       "154               US            L  \n",
       "225               IN            L  \n",
       "564               US            M  "
      ]
     },
     "execution_count": 29,
     "metadata": {},
     "output_type": "execute_result"
    }
   ],
   "source": [
    "X_train.head()"
   ]
  },
  {
   "cell_type": "markdown",
   "metadata": {},
   "source": [
    "> catatan:\n",
    "1. Pada kasus ini akan digunakan `metode pipeline`, oleh karena itu proses scaling dan encoding akan dilakukan pada tahap Model Definition bersamaan dengan pendefinisian model training yang akan digunakan."
   ]
  },
  {
   "cell_type": "markdown",
   "metadata": {},
   "source": [
    "# VI - Model Definition"
   ]
  },
  {
   "cell_type": "markdown",
   "metadata": {},
   "source": [
    "> Bagian ini berisi cell untuk mendefinisikan model. Jelaskan alasan menggunakan suatu algoritma/model, hyperparameter yang dipakai, jenis penggunaan metrics yang dipakai, dan hal lain yang terkait dengan model."
   ]
  },
  {
   "cell_type": "markdown",
   "metadata": {},
   "source": [
    "#### **a. Pipeline Preprocessing**"
   ]
  },
  {
   "cell_type": "code",
   "execution_count": 30,
   "metadata": {},
   "outputs": [
    {
     "data": {
      "text/html": [
       "<div>\n",
       "<style scoped>\n",
       "    .dataframe tbody tr th:only-of-type {\n",
       "        vertical-align: middle;\n",
       "    }\n",
       "\n",
       "    .dataframe tbody tr th {\n",
       "        vertical-align: top;\n",
       "    }\n",
       "\n",
       "    .dataframe thead th {\n",
       "        text-align: right;\n",
       "    }\n",
       "</style>\n",
       "<table border=\"1\" class=\"dataframe\">\n",
       "  <thead>\n",
       "    <tr style=\"text-align: right;\">\n",
       "      <th></th>\n",
       "      <th>work_year</th>\n",
       "      <th>experience_level</th>\n",
       "      <th>employment_type</th>\n",
       "      <th>job_title</th>\n",
       "      <th>employee_residence</th>\n",
       "      <th>remote_ratio</th>\n",
       "      <th>company_location</th>\n",
       "      <th>company_size</th>\n",
       "    </tr>\n",
       "  </thead>\n",
       "  <tbody>\n",
       "    <tr>\n",
       "      <th>588</th>\n",
       "      <td>2022</td>\n",
       "      <td>MI</td>\n",
       "      <td>FT</td>\n",
       "      <td>Data Scientist</td>\n",
       "      <td>US</td>\n",
       "      <td>100</td>\n",
       "      <td>US</td>\n",
       "      <td>M</td>\n",
       "    </tr>\n",
       "    <tr>\n",
       "      <th>280</th>\n",
       "      <td>2021</td>\n",
       "      <td>SE</td>\n",
       "      <td>FT</td>\n",
       "      <td>Data Science Manager</td>\n",
       "      <td>IN</td>\n",
       "      <td>50</td>\n",
       "      <td>IN</td>\n",
       "      <td>L</td>\n",
       "    </tr>\n",
       "    <tr>\n",
       "      <th>154</th>\n",
       "      <td>2021</td>\n",
       "      <td>MI</td>\n",
       "      <td>FT</td>\n",
       "      <td>Applied Machine Learning Scientist</td>\n",
       "      <td>US</td>\n",
       "      <td>50</td>\n",
       "      <td>US</td>\n",
       "      <td>L</td>\n",
       "    </tr>\n",
       "    <tr>\n",
       "      <th>225</th>\n",
       "      <td>2021</td>\n",
       "      <td>EN</td>\n",
       "      <td>FT</td>\n",
       "      <td>Big Data Engineer</td>\n",
       "      <td>IN</td>\n",
       "      <td>100</td>\n",
       "      <td>IN</td>\n",
       "      <td>L</td>\n",
       "    </tr>\n",
       "    <tr>\n",
       "      <th>564</th>\n",
       "      <td>2022</td>\n",
       "      <td>SE</td>\n",
       "      <td>FT</td>\n",
       "      <td>Data Scientist</td>\n",
       "      <td>US</td>\n",
       "      <td>100</td>\n",
       "      <td>US</td>\n",
       "      <td>M</td>\n",
       "    </tr>\n",
       "  </tbody>\n",
       "</table>\n",
       "</div>"
      ],
      "text/plain": [
       "     work_year experience_level employment_type  \\\n",
       "588       2022               MI              FT   \n",
       "280       2021               SE              FT   \n",
       "154       2021               MI              FT   \n",
       "225       2021               EN              FT   \n",
       "564       2022               SE              FT   \n",
       "\n",
       "                              job_title employee_residence  remote_ratio  \\\n",
       "588                      Data Scientist                 US           100   \n",
       "280                Data Science Manager                 IN            50   \n",
       "154  Applied Machine Learning Scientist                 US            50   \n",
       "225                   Big Data Engineer                 IN           100   \n",
       "564                      Data Scientist                 US           100   \n",
       "\n",
       "    company_location company_size  \n",
       "588               US            M  \n",
       "280               IN            L  \n",
       "154               US            L  \n",
       "225               IN            L  \n",
       "564               US            M  "
      ]
     },
     "execution_count": 30,
     "metadata": {},
     "output_type": "execute_result"
    }
   ],
   "source": [
    "X_train.head()"
   ]
  },
  {
   "cell_type": "code",
   "execution_count": 31,
   "metadata": {},
   "outputs": [],
   "source": [
    "# Mengelompokan masing-masing kolom untuk perlakuan preprocessing terutama pada tahapan scalling\n",
    "numeric_features_mc = ['work_year','remote_ratio']\n",
    "numeric_pipeline = Pipeline([(\"scaler1\", MinMaxScaler())])\n"
   ]
  },
  {
   "cell_type": "code",
   "execution_count": 32,
   "metadata": {},
   "outputs": [],
   "source": [
    "# Mengelompokan masing-masing kolom untuk perlakuan preprocessing terutama pada tahapan Encoding\n",
    "cat_features_oe = ['experience_level','employment_type','company_size']\n",
    "cat_features_he = ['job_title','employee_residence','company_location']\n",
    "\n",
    "full_pipeline = ColumnTransformer([\n",
    "        (\"num\", numeric_pipeline, numeric_features_mc),\n",
    "        (\"cat1\", OneHotEncoder(handle_unknown='ignore'), cat_features_he),\n",
    "        (\"cat2\",OrdinalEncoder(categories=[['EN','MI','SE','EX'],\n",
    "                                    ['FL','PT','CT','FT'], \n",
    "                                    ['S','M','L']],handle_unknown='use_encoded_value',unknown_value=np.nan ),cat_features_oe)\n",
    "])                                      \n"
   ]
  },
  {
   "cell_type": "markdown",
   "metadata": {},
   "source": [
    "> Keterangan:\n",
    "1. Kolom `work_year` dan `remote_ratio` dibuatkan pipeline dengan nama numeric_pipeline yang akan di transform dengan MinMaxScaler karena distribusi tidak normal.\n",
    "2. Kolom kategori dibagi dua yaitu cat_features_oe yang akan di encode menggunakan OrdinalEncoder dan cat_features_he yang akan di encode menggunakan OneHotEncoder. \n",
    "3. Pada variabel full_pipeline dibuatkan satu paket fungsi yang dapat menyelesaikan seluruh permasalahan preprocessing, sehingga dapat segera di train."
   ]
  },
  {
   "cell_type": "markdown",
   "metadata": {},
   "source": [
    "#### **b. Pipeline Modelling**"
   ]
  },
  {
   "cell_type": "code",
   "execution_count": 33,
   "metadata": {},
   "outputs": [],
   "source": [
    "# Linear Regression Pipeline\n",
    "linear_pipe = Pipeline(steps=[('preprocessing', full_pipeline), ('classifier', LinearRegression())])\n",
    "# Lasso Regression Pipeline\n",
    "Lasso_pipe = Pipeline(steps=[('preprocessing', full_pipeline), ('classifier', Lasso())])\n",
    "# Ridge Regression Pipeline\n",
    "Ridge_pipe = Pipeline(steps=[('preprocessing', full_pipeline), ('classifier', Ridge())])\n",
    "# Decision Tree Regressor (DTR) Pipeline\n",
    "tree_pipe = Pipeline(steps=[('preprocessing', full_pipeline), ('classifier', DecisionTreeRegressor())])\n",
    "# Support Vector Reggresor (SVR) Pipeline\n",
    "svr_pipe = Pipeline(steps=[('preprocessing', full_pipeline), ('classifier', SVR())])"
   ]
  },
  {
   "cell_type": "markdown",
   "metadata": {},
   "source": [
    "> Keterangan:\n",
    "1. Dibuatkan 5 variabel baru yang berisi gabungan pipeline prepocessing dan model-model yang akan di uji coba kan kepada dataset.\n",
    "2. Pada kasus ini akan diuji coba 5 Model Regresi yaitu, `Linear Regression`, `Lasso Regression`, `Ridge Regression`, `Decision Tree Regresor`, dan `SVR`. Pemilihan 5 model itu dikarenakan target yang akan kita cari ada numerik. Oleh karena itu model-model pilihan kita adalah yang mampu melakukan regresi.\n",
    "3. Pada Training awal dan model definisi awal digunakan hyperparameter default.\n",
    "4. Kemudian Metrik Evaluasi akan digunakan `Mean Absolut Error(MAE)`. MAE dipilih karena metrik evaluasi ini tidak terlalu sensitif terhadap outlier. Hal ini sejalan dengan dataset yang digunakan yaitu terdapat 2 column yang memiliki outlier dan distribusinya tidak normal.\n"
   ]
  },
  {
   "cell_type": "markdown",
   "metadata": {},
   "source": [
    "# VII - Model Training"
   ]
  },
  {
   "cell_type": "markdown",
   "metadata": {},
   "source": [
    "> Cell pada bagian ini hanya berisi code untuk melatih model dan output yang dihasilkan. Lakukan beberapa kali proses training dengan hyperparameter yang berbeda untuk melihat hasil yang didapatkan. Analisis dan narasikan hasil ini pada bagian Model Evaluation."
   ]
  },
  {
   "cell_type": "markdown",
   "metadata": {},
   "source": [
    "#### **a. Model Training dengan Pipeline**"
   ]
  },
  {
   "cell_type": "code",
   "execution_count": 34,
   "metadata": {},
   "outputs": [
    {
     "name": "stderr",
     "output_type": "stream",
     "text": [
      "c:\\Users\\ASUS TUF\\anaconda3\\lib\\site-packages\\sklearn\\linear_model\\_coordinate_descent.py:609: ConvergenceWarning: Objective did not converge. You might want to increase the number of iterations. Duality gap: 85351712037.58405, tolerance: 262782679.0280302\n",
      "  model = cd_fast.sparse_enet_coordinate_descent(\n"
     ]
    },
    {
     "data": {
      "text/html": [
       "<style>#sk-container-id-1 {color: black;background-color: white;}#sk-container-id-1 pre{padding: 0;}#sk-container-id-1 div.sk-toggleable {background-color: white;}#sk-container-id-1 label.sk-toggleable__label {cursor: pointer;display: block;width: 100%;margin-bottom: 0;padding: 0.3em;box-sizing: border-box;text-align: center;}#sk-container-id-1 label.sk-toggleable__label-arrow:before {content: \"▸\";float: left;margin-right: 0.25em;color: #696969;}#sk-container-id-1 label.sk-toggleable__label-arrow:hover:before {color: black;}#sk-container-id-1 div.sk-estimator:hover label.sk-toggleable__label-arrow:before {color: black;}#sk-container-id-1 div.sk-toggleable__content {max-height: 0;max-width: 0;overflow: hidden;text-align: left;background-color: #f0f8ff;}#sk-container-id-1 div.sk-toggleable__content pre {margin: 0.2em;color: black;border-radius: 0.25em;background-color: #f0f8ff;}#sk-container-id-1 input.sk-toggleable__control:checked~div.sk-toggleable__content {max-height: 200px;max-width: 100%;overflow: auto;}#sk-container-id-1 input.sk-toggleable__control:checked~label.sk-toggleable__label-arrow:before {content: \"▾\";}#sk-container-id-1 div.sk-estimator input.sk-toggleable__control:checked~label.sk-toggleable__label {background-color: #d4ebff;}#sk-container-id-1 div.sk-label input.sk-toggleable__control:checked~label.sk-toggleable__label {background-color: #d4ebff;}#sk-container-id-1 input.sk-hidden--visually {border: 0;clip: rect(1px 1px 1px 1px);clip: rect(1px, 1px, 1px, 1px);height: 1px;margin: -1px;overflow: hidden;padding: 0;position: absolute;width: 1px;}#sk-container-id-1 div.sk-estimator {font-family: monospace;background-color: #f0f8ff;border: 1px dotted black;border-radius: 0.25em;box-sizing: border-box;margin-bottom: 0.5em;}#sk-container-id-1 div.sk-estimator:hover {background-color: #d4ebff;}#sk-container-id-1 div.sk-parallel-item::after {content: \"\";width: 100%;border-bottom: 1px solid gray;flex-grow: 1;}#sk-container-id-1 div.sk-label:hover label.sk-toggleable__label {background-color: #d4ebff;}#sk-container-id-1 div.sk-serial::before {content: \"\";position: absolute;border-left: 1px solid gray;box-sizing: border-box;top: 0;bottom: 0;left: 50%;z-index: 0;}#sk-container-id-1 div.sk-serial {display: flex;flex-direction: column;align-items: center;background-color: white;padding-right: 0.2em;padding-left: 0.2em;position: relative;}#sk-container-id-1 div.sk-item {position: relative;z-index: 1;}#sk-container-id-1 div.sk-parallel {display: flex;align-items: stretch;justify-content: center;background-color: white;position: relative;}#sk-container-id-1 div.sk-item::before, #sk-container-id-1 div.sk-parallel-item::before {content: \"\";position: absolute;border-left: 1px solid gray;box-sizing: border-box;top: 0;bottom: 0;left: 50%;z-index: -1;}#sk-container-id-1 div.sk-parallel-item {display: flex;flex-direction: column;z-index: 1;position: relative;background-color: white;}#sk-container-id-1 div.sk-parallel-item:first-child::after {align-self: flex-end;width: 50%;}#sk-container-id-1 div.sk-parallel-item:last-child::after {align-self: flex-start;width: 50%;}#sk-container-id-1 div.sk-parallel-item:only-child::after {width: 0;}#sk-container-id-1 div.sk-dashed-wrapped {border: 1px dashed gray;margin: 0 0.4em 0.5em 0.4em;box-sizing: border-box;padding-bottom: 0.4em;background-color: white;}#sk-container-id-1 div.sk-label label {font-family: monospace;font-weight: bold;display: inline-block;line-height: 1.2em;}#sk-container-id-1 div.sk-label-container {text-align: center;}#sk-container-id-1 div.sk-container {/* jupyter's `normalize.less` sets `[hidden] { display: none; }` but bootstrap.min.css set `[hidden] { display: none !important; }` so we also need the `!important` here to be able to override the default hidden behavior on the sphinx rendered scikit-learn.org. See: https://github.com/scikit-learn/scikit-learn/issues/21755 */display: inline-block !important;position: relative;}#sk-container-id-1 div.sk-text-repr-fallback {display: none;}</style><div id=\"sk-container-id-1\" class=\"sk-top-container\"><div class=\"sk-text-repr-fallback\"><pre>Pipeline(steps=[(&#x27;preprocessing&#x27;,\n",
       "                 ColumnTransformer(transformers=[(&#x27;num&#x27;,\n",
       "                                                  Pipeline(steps=[(&#x27;scaler1&#x27;,\n",
       "                                                                   MinMaxScaler())]),\n",
       "                                                  [&#x27;work_year&#x27;,\n",
       "                                                   &#x27;remote_ratio&#x27;]),\n",
       "                                                 (&#x27;cat1&#x27;,\n",
       "                                                  OneHotEncoder(handle_unknown=&#x27;ignore&#x27;),\n",
       "                                                  [&#x27;job_title&#x27;,\n",
       "                                                   &#x27;employee_residence&#x27;,\n",
       "                                                   &#x27;company_location&#x27;]),\n",
       "                                                 (&#x27;cat2&#x27;,\n",
       "                                                  OrdinalEncoder(categories=[[&#x27;EN&#x27;,\n",
       "                                                                              &#x27;MI&#x27;,\n",
       "                                                                              &#x27;SE&#x27;,\n",
       "                                                                              &#x27;EX&#x27;],\n",
       "                                                                             [&#x27;FL&#x27;,\n",
       "                                                                              &#x27;PT&#x27;,\n",
       "                                                                              &#x27;CT&#x27;,\n",
       "                                                                              &#x27;FT&#x27;],\n",
       "                                                                             [&#x27;S&#x27;,\n",
       "                                                                              &#x27;M&#x27;,\n",
       "                                                                              &#x27;L&#x27;]],\n",
       "                                                                 handle_unknown=&#x27;use_encoded_value&#x27;,\n",
       "                                                                 unknown_value=nan),\n",
       "                                                  [&#x27;experience_level&#x27;,\n",
       "                                                   &#x27;employment_type&#x27;,\n",
       "                                                   &#x27;company_size&#x27;])])),\n",
       "                (&#x27;classifier&#x27;, SVR())])</pre><b>In a Jupyter environment, please rerun this cell to show the HTML representation or trust the notebook. <br />On GitHub, the HTML representation is unable to render, please try loading this page with nbviewer.org.</b></div><div class=\"sk-container\" hidden><div class=\"sk-item sk-dashed-wrapped\"><div class=\"sk-label-container\"><div class=\"sk-label sk-toggleable\"><input class=\"sk-toggleable__control sk-hidden--visually\" id=\"sk-estimator-id-1\" type=\"checkbox\" ><label for=\"sk-estimator-id-1\" class=\"sk-toggleable__label sk-toggleable__label-arrow\">Pipeline</label><div class=\"sk-toggleable__content\"><pre>Pipeline(steps=[(&#x27;preprocessing&#x27;,\n",
       "                 ColumnTransformer(transformers=[(&#x27;num&#x27;,\n",
       "                                                  Pipeline(steps=[(&#x27;scaler1&#x27;,\n",
       "                                                                   MinMaxScaler())]),\n",
       "                                                  [&#x27;work_year&#x27;,\n",
       "                                                   &#x27;remote_ratio&#x27;]),\n",
       "                                                 (&#x27;cat1&#x27;,\n",
       "                                                  OneHotEncoder(handle_unknown=&#x27;ignore&#x27;),\n",
       "                                                  [&#x27;job_title&#x27;,\n",
       "                                                   &#x27;employee_residence&#x27;,\n",
       "                                                   &#x27;company_location&#x27;]),\n",
       "                                                 (&#x27;cat2&#x27;,\n",
       "                                                  OrdinalEncoder(categories=[[&#x27;EN&#x27;,\n",
       "                                                                              &#x27;MI&#x27;,\n",
       "                                                                              &#x27;SE&#x27;,\n",
       "                                                                              &#x27;EX&#x27;],\n",
       "                                                                             [&#x27;FL&#x27;,\n",
       "                                                                              &#x27;PT&#x27;,\n",
       "                                                                              &#x27;CT&#x27;,\n",
       "                                                                              &#x27;FT&#x27;],\n",
       "                                                                             [&#x27;S&#x27;,\n",
       "                                                                              &#x27;M&#x27;,\n",
       "                                                                              &#x27;L&#x27;]],\n",
       "                                                                 handle_unknown=&#x27;use_encoded_value&#x27;,\n",
       "                                                                 unknown_value=nan),\n",
       "                                                  [&#x27;experience_level&#x27;,\n",
       "                                                   &#x27;employment_type&#x27;,\n",
       "                                                   &#x27;company_size&#x27;])])),\n",
       "                (&#x27;classifier&#x27;, SVR())])</pre></div></div></div><div class=\"sk-serial\"><div class=\"sk-item sk-dashed-wrapped\"><div class=\"sk-label-container\"><div class=\"sk-label sk-toggleable\"><input class=\"sk-toggleable__control sk-hidden--visually\" id=\"sk-estimator-id-2\" type=\"checkbox\" ><label for=\"sk-estimator-id-2\" class=\"sk-toggleable__label sk-toggleable__label-arrow\">preprocessing: ColumnTransformer</label><div class=\"sk-toggleable__content\"><pre>ColumnTransformer(transformers=[(&#x27;num&#x27;,\n",
       "                                 Pipeline(steps=[(&#x27;scaler1&#x27;, MinMaxScaler())]),\n",
       "                                 [&#x27;work_year&#x27;, &#x27;remote_ratio&#x27;]),\n",
       "                                (&#x27;cat1&#x27;, OneHotEncoder(handle_unknown=&#x27;ignore&#x27;),\n",
       "                                 [&#x27;job_title&#x27;, &#x27;employee_residence&#x27;,\n",
       "                                  &#x27;company_location&#x27;]),\n",
       "                                (&#x27;cat2&#x27;,\n",
       "                                 OrdinalEncoder(categories=[[&#x27;EN&#x27;, &#x27;MI&#x27;, &#x27;SE&#x27;,\n",
       "                                                             &#x27;EX&#x27;],\n",
       "                                                            [&#x27;FL&#x27;, &#x27;PT&#x27;, &#x27;CT&#x27;,\n",
       "                                                             &#x27;FT&#x27;],\n",
       "                                                            [&#x27;S&#x27;, &#x27;M&#x27;, &#x27;L&#x27;]],\n",
       "                                                handle_unknown=&#x27;use_encoded_value&#x27;,\n",
       "                                                unknown_value=nan),\n",
       "                                 [&#x27;experience_level&#x27;, &#x27;employment_type&#x27;,\n",
       "                                  &#x27;company_size&#x27;])])</pre></div></div></div><div class=\"sk-parallel\"><div class=\"sk-parallel-item\"><div class=\"sk-item\"><div class=\"sk-label-container\"><div class=\"sk-label sk-toggleable\"><input class=\"sk-toggleable__control sk-hidden--visually\" id=\"sk-estimator-id-3\" type=\"checkbox\" ><label for=\"sk-estimator-id-3\" class=\"sk-toggleable__label sk-toggleable__label-arrow\">num</label><div class=\"sk-toggleable__content\"><pre>[&#x27;work_year&#x27;, &#x27;remote_ratio&#x27;]</pre></div></div></div><div class=\"sk-serial\"><div class=\"sk-item\"><div class=\"sk-serial\"><div class=\"sk-item\"><div class=\"sk-estimator sk-toggleable\"><input class=\"sk-toggleable__control sk-hidden--visually\" id=\"sk-estimator-id-4\" type=\"checkbox\" ><label for=\"sk-estimator-id-4\" class=\"sk-toggleable__label sk-toggleable__label-arrow\">MinMaxScaler</label><div class=\"sk-toggleable__content\"><pre>MinMaxScaler()</pre></div></div></div></div></div></div></div></div><div class=\"sk-parallel-item\"><div class=\"sk-item\"><div class=\"sk-label-container\"><div class=\"sk-label sk-toggleable\"><input class=\"sk-toggleable__control sk-hidden--visually\" id=\"sk-estimator-id-5\" type=\"checkbox\" ><label for=\"sk-estimator-id-5\" class=\"sk-toggleable__label sk-toggleable__label-arrow\">cat1</label><div class=\"sk-toggleable__content\"><pre>[&#x27;job_title&#x27;, &#x27;employee_residence&#x27;, &#x27;company_location&#x27;]</pre></div></div></div><div class=\"sk-serial\"><div class=\"sk-item\"><div class=\"sk-estimator sk-toggleable\"><input class=\"sk-toggleable__control sk-hidden--visually\" id=\"sk-estimator-id-6\" type=\"checkbox\" ><label for=\"sk-estimator-id-6\" class=\"sk-toggleable__label sk-toggleable__label-arrow\">OneHotEncoder</label><div class=\"sk-toggleable__content\"><pre>OneHotEncoder(handle_unknown=&#x27;ignore&#x27;)</pre></div></div></div></div></div></div><div class=\"sk-parallel-item\"><div class=\"sk-item\"><div class=\"sk-label-container\"><div class=\"sk-label sk-toggleable\"><input class=\"sk-toggleable__control sk-hidden--visually\" id=\"sk-estimator-id-7\" type=\"checkbox\" ><label for=\"sk-estimator-id-7\" class=\"sk-toggleable__label sk-toggleable__label-arrow\">cat2</label><div class=\"sk-toggleable__content\"><pre>[&#x27;experience_level&#x27;, &#x27;employment_type&#x27;, &#x27;company_size&#x27;]</pre></div></div></div><div class=\"sk-serial\"><div class=\"sk-item\"><div class=\"sk-estimator sk-toggleable\"><input class=\"sk-toggleable__control sk-hidden--visually\" id=\"sk-estimator-id-8\" type=\"checkbox\" ><label for=\"sk-estimator-id-8\" class=\"sk-toggleable__label sk-toggleable__label-arrow\">OrdinalEncoder</label><div class=\"sk-toggleable__content\"><pre>OrdinalEncoder(categories=[[&#x27;EN&#x27;, &#x27;MI&#x27;, &#x27;SE&#x27;, &#x27;EX&#x27;], [&#x27;FL&#x27;, &#x27;PT&#x27;, &#x27;CT&#x27;, &#x27;FT&#x27;],\n",
       "                           [&#x27;S&#x27;, &#x27;M&#x27;, &#x27;L&#x27;]],\n",
       "               handle_unknown=&#x27;use_encoded_value&#x27;, unknown_value=nan)</pre></div></div></div></div></div></div></div></div><div class=\"sk-item\"><div class=\"sk-estimator sk-toggleable\"><input class=\"sk-toggleable__control sk-hidden--visually\" id=\"sk-estimator-id-9\" type=\"checkbox\" ><label for=\"sk-estimator-id-9\" class=\"sk-toggleable__label sk-toggleable__label-arrow\">SVR</label><div class=\"sk-toggleable__content\"><pre>SVR()</pre></div></div></div></div></div></div></div>"
      ],
      "text/plain": [
       "Pipeline(steps=[('preprocessing',\n",
       "                 ColumnTransformer(transformers=[('num',\n",
       "                                                  Pipeline(steps=[('scaler1',\n",
       "                                                                   MinMaxScaler())]),\n",
       "                                                  ['work_year',\n",
       "                                                   'remote_ratio']),\n",
       "                                                 ('cat1',\n",
       "                                                  OneHotEncoder(handle_unknown='ignore'),\n",
       "                                                  ['job_title',\n",
       "                                                   'employee_residence',\n",
       "                                                   'company_location']),\n",
       "                                                 ('cat2',\n",
       "                                                  OrdinalEncoder(categories=[['EN',\n",
       "                                                                              'MI',\n",
       "                                                                              'SE',\n",
       "                                                                              'EX'],\n",
       "                                                                             ['FL',\n",
       "                                                                              'PT',\n",
       "                                                                              'CT',\n",
       "                                                                              'FT'],\n",
       "                                                                             ['S',\n",
       "                                                                              'M',\n",
       "                                                                              'L']],\n",
       "                                                                 handle_unknown='use_encoded_value',\n",
       "                                                                 unknown_value=nan),\n",
       "                                                  ['experience_level',\n",
       "                                                   'employment_type',\n",
       "                                                   'company_size'])])),\n",
       "                ('classifier', SVR())])"
      ]
     },
     "execution_count": 34,
     "metadata": {},
     "output_type": "execute_result"
    }
   ],
   "source": [
    "# Linear Regression Training\n",
    "linear_pipe.fit(X_train,y_train)\n",
    "# Linear Regression Training\n",
    "Lasso_pipe.fit(X_train,y_train)\n",
    "# Linear Regression Training\n",
    "Ridge_pipe.fit(X_train,y_train)\n",
    "# Linear Regression Training\n",
    "tree_pipe.fit(X_train,y_train)\n",
    "# Linear Regression Training\n",
    "svr_pipe.fit(X_train,y_train)"
   ]
  },
  {
   "cell_type": "markdown",
   "metadata": {},
   "source": [
    "> Keterangan:\n",
    "1. Dilakukan train kepada seluruh model yang telah dibungkus pipeline"
   ]
  },
  {
   "cell_type": "markdown",
   "metadata": {},
   "source": [
    "#### **b. Scoring Model dengan Cross-Validation**"
   ]
  },
  {
   "cell_type": "code",
   "execution_count": 35,
   "metadata": {},
   "outputs": [
    {
     "name": "stderr",
     "output_type": "stream",
     "text": [
      "c:\\Users\\ASUS TUF\\anaconda3\\lib\\site-packages\\sklearn\\linear_model\\_coordinate_descent.py:609: ConvergenceWarning: Objective did not converge. You might want to increase the number of iterations. Duality gap: 76666096284.70264, tolerance: 212156858.58461452\n",
      "  model = cd_fast.sparse_enet_coordinate_descent(\n",
      "c:\\Users\\ASUS TUF\\anaconda3\\lib\\site-packages\\sklearn\\linear_model\\_coordinate_descent.py:609: ConvergenceWarning: Objective did not converge. You might want to increase the number of iterations. Duality gap: 74806781591.43274, tolerance: 232166371.332621\n",
      "  model = cd_fast.sparse_enet_coordinate_descent(\n",
      "c:\\Users\\ASUS TUF\\anaconda3\\lib\\site-packages\\sklearn\\linear_model\\_coordinate_descent.py:609: ConvergenceWarning: Objective did not converge. You might want to increase the number of iterations. Duality gap: 17370454964.90326, tolerance: 227656614.52405784\n",
      "  model = cd_fast.sparse_enet_coordinate_descent(\n",
      "c:\\Users\\ASUS TUF\\anaconda3\\lib\\site-packages\\sklearn\\linear_model\\_coordinate_descent.py:609: ConvergenceWarning: Objective did not converge. You might want to increase the number of iterations. Duality gap: 72119229173.60382, tolerance: 244986706.14890674\n",
      "  model = cd_fast.sparse_enet_coordinate_descent(\n",
      "c:\\Users\\ASUS TUF\\anaconda3\\lib\\site-packages\\sklearn\\linear_model\\_coordinate_descent.py:609: ConvergenceWarning: Objective did not converge. You might want to increase the number of iterations. Duality gap: 70053742235.62976, tolerance: 240587819.8640839\n",
      "  model = cd_fast.sparse_enet_coordinate_descent(\n",
      "c:\\Users\\ASUS TUF\\anaconda3\\lib\\site-packages\\sklearn\\linear_model\\_coordinate_descent.py:609: ConvergenceWarning: Objective did not converge. You might want to increase the number of iterations. Duality gap: 75432566988.69525, tolerance: 248301897.23959717\n",
      "  model = cd_fast.sparse_enet_coordinate_descent(\n",
      "c:\\Users\\ASUS TUF\\anaconda3\\lib\\site-packages\\sklearn\\linear_model\\_coordinate_descent.py:609: ConvergenceWarning: Objective did not converge. You might want to increase the number of iterations. Duality gap: 57204481961.5965, tolerance: 248076433.4552209\n",
      "  model = cd_fast.sparse_enet_coordinate_descent(\n",
      "c:\\Users\\ASUS TUF\\anaconda3\\lib\\site-packages\\sklearn\\linear_model\\_coordinate_descent.py:609: ConvergenceWarning: Objective did not converge. You might want to increase the number of iterations. Duality gap: 17451325427.946045, tolerance: 232778844.54803467\n",
      "  model = cd_fast.sparse_enet_coordinate_descent(\n",
      "c:\\Users\\ASUS TUF\\anaconda3\\lib\\site-packages\\sklearn\\linear_model\\_coordinate_descent.py:609: ConvergenceWarning: Objective did not converge. You might want to increase the number of iterations. Duality gap: 98574750650.36713, tolerance: 246222395.02998975\n",
      "  model = cd_fast.sparse_enet_coordinate_descent(\n",
      "c:\\Users\\ASUS TUF\\anaconda3\\lib\\site-packages\\sklearn\\linear_model\\_coordinate_descent.py:609: ConvergenceWarning: Objective did not converge. You might want to increase the number of iterations. Duality gap: 28062835830.564514, tolerance: 231524878.93738165\n",
      "  model = cd_fast.sparse_enet_coordinate_descent(\n"
     ]
    }
   ],
   "source": [
    "scores1 = cross_val_score(linear_pipe, X_train, y_train,scoring=\"neg_mean_absolute_error\", cv=10)\n",
    "scores2 = cross_val_score(Lasso_pipe, X_train, y_train,scoring=\"neg_mean_absolute_error\", cv=10)\n",
    "scores3 = cross_val_score(Ridge_pipe, X_train, y_train,scoring=\"neg_mean_absolute_error\", cv=10)\n",
    "scores4 = cross_val_score(tree_pipe, X_train, y_train,scoring=\"neg_mean_absolute_error\", cv=10)\n",
    "scores5 = cross_val_score(svr_pipe, X_train, y_train,scoring=\"neg_mean_absolute_error\", cv=10)"
   ]
  },
  {
   "cell_type": "code",
   "execution_count": 36,
   "metadata": {},
   "outputs": [
    {
     "data": {
      "text/html": [
       "<div>\n",
       "<style scoped>\n",
       "    .dataframe tbody tr th:only-of-type {\n",
       "        vertical-align: middle;\n",
       "    }\n",
       "\n",
       "    .dataframe tbody tr th {\n",
       "        vertical-align: top;\n",
       "    }\n",
       "\n",
       "    .dataframe thead th {\n",
       "        text-align: right;\n",
       "    }\n",
       "</style>\n",
       "<table border=\"1\" class=\"dataframe\">\n",
       "  <thead>\n",
       "    <tr style=\"text-align: right;\">\n",
       "      <th></th>\n",
       "      <th>Model</th>\n",
       "      <th>scores mean</th>\n",
       "      <th>scores std</th>\n",
       "      <th>scores mean + 2 scores std</th>\n",
       "      <th>scores mean - 2 x scores std</th>\n",
       "    </tr>\n",
       "  </thead>\n",
       "  <tbody>\n",
       "    <tr>\n",
       "      <th>0</th>\n",
       "      <td>Ridge Regression</td>\n",
       "      <td>37694.47</td>\n",
       "      <td>5972.33</td>\n",
       "      <td>49639.14</td>\n",
       "      <td>25749.81</td>\n",
       "    </tr>\n",
       "    <tr>\n",
       "      <th>1</th>\n",
       "      <td>Decision Tree Regressor</td>\n",
       "      <td>39759.29</td>\n",
       "      <td>7303.38</td>\n",
       "      <td>54366.06</td>\n",
       "      <td>25152.52</td>\n",
       "    </tr>\n",
       "    <tr>\n",
       "      <th>2</th>\n",
       "      <td>Lasso Regression</td>\n",
       "      <td>43310.99</td>\n",
       "      <td>7043.60</td>\n",
       "      <td>57398.19</td>\n",
       "      <td>29223.78</td>\n",
       "    </tr>\n",
       "    <tr>\n",
       "      <th>3</th>\n",
       "      <td>Linear Regression</td>\n",
       "      <td>44183.95</td>\n",
       "      <td>7158.70</td>\n",
       "      <td>58501.35</td>\n",
       "      <td>29866.54</td>\n",
       "    </tr>\n",
       "    <tr>\n",
       "      <th>4</th>\n",
       "      <td>SVR</td>\n",
       "      <td>53303.51</td>\n",
       "      <td>6847.38</td>\n",
       "      <td>66998.27</td>\n",
       "      <td>39608.75</td>\n",
       "    </tr>\n",
       "  </tbody>\n",
       "</table>\n",
       "</div>"
      ],
      "text/plain": [
       "                     Model  scores mean  scores std  \\\n",
       "0         Ridge Regression     37694.47     5972.33   \n",
       "1  Decision Tree Regressor     39759.29     7303.38   \n",
       "2         Lasso Regression     43310.99     7043.60   \n",
       "3        Linear Regression     44183.95     7158.70   \n",
       "4                      SVR     53303.51     6847.38   \n",
       "\n",
       "   scores mean + 2 scores std  scores mean - 2 x scores std  \n",
       "0                    49639.14                      25749.81  \n",
       "1                    54366.06                      25152.52  \n",
       "2                    57398.19                      29223.78  \n",
       "3                    58501.35                      29866.54  \n",
       "4                    66998.27                      39608.75  "
      ]
     },
     "execution_count": 36,
     "metadata": {},
     "output_type": "execute_result"
    }
   ],
   "source": [
    "# Melakukan looping untuk membaut Dataframes yang berisi SCORE MAE & Standar Deviasi\n",
    "model_name = [scores1,scores2,scores3,scores4,scores5]\n",
    "label = ['Linear Regression','Lasso Regression','Ridge Regression','Decision Tree Regressor',' SVR']\n",
    "\n",
    "Cross_Validation = pd.DataFrame(columns=['Model','scores mean', 'scores std', 'scores mean + 2 scores std', 'scores mean - 2 x scores std'])\n",
    "a = 0\n",
    "for i in model_name:\n",
    "    Cross_Validation.loc[a] = [label[a],round(-i.mean(),2), round(i.std(),2), round(-i.mean()+2*i.std(),2), round(-i.mean()-2*i.std(),2)]\n",
    "    a=a+1 \n",
    "Cross_Validation.sort_values(by='scores mean', ascending=True).reset_index(drop=True)"
   ]
  },
  {
   "cell_type": "markdown",
   "metadata": {},
   "source": [
    "> Keterangan:\n",
    "1. Penentuan model terbaik dilakukan dengan melihat score terbaik berdasarkan hasil evaluasi Cross Validation.\n",
    "2. Setiap model dilakukan cross validation dan dicari Score CV-nya masing-masing\n",
    "3. Kemudian dibuatkan dataframe yang berisi rangkuman penilaian ke 5 model yang dijalankan.\n",
    "4. Kriteria model terbaik adalah Scores Mean  dan Scores STD sekecil mungkin. \n",
    "    - Pada tahap pertama penulis mengambil 3 model dengan std terkecil yaitu Ridge, Decision Tree, dan SVR.\n",
    "    - Tahap kedua penulis memilih dari 3 model itu, scores mean terkecil.\n",
    "    - `Didapatkan Ridge Regression memberikan nilai Mean dan STD terkecil` dibandingkan 4 model lainnya\n",
    "5. Dengan Confidence Interval 95% Ridge Regression `memiliki range nilai 25750 - 49650`\n",
    "6. Oleh karena itu pada tahap Hyperparameter Tuning akan digunakan model Ridge Regressions"
   ]
  },
  {
   "cell_type": "markdown",
   "metadata": {},
   "source": [
    "#### **C. Hyperparameter Tuning Ridge Regression**"
   ]
  },
  {
   "cell_type": "code",
   "execution_count": 37,
   "metadata": {},
   "outputs": [],
   "source": [
    "# Grid Search Ridge Regression Hyperparameter Tuning\n",
    "Ridge_pipe = Pipeline(steps=[('preprocessing', full_pipeline), ('classifier', Ridge())])"
   ]
  },
  {
   "cell_type": "code",
   "execution_count": 38,
   "metadata": {},
   "outputs": [],
   "source": [
    "X_train_final = full_pipeline.fit_transform(X_train)"
   ]
  },
  {
   "cell_type": "code",
   "execution_count": 39,
   "metadata": {},
   "outputs": [
    {
     "name": "stderr",
     "output_type": "stream",
     "text": [
      "c:\\Users\\ASUS TUF\\anaconda3\\lib\\site-packages\\sklearn\\model_selection\\_validation.py:378: FitFailedWarning: \n",
      "330 fits failed out of a total of 960.\n",
      "The score on these train-test partitions for these parameters will be set to nan.\n",
      "If these failures are not expected, you can try to debug them by setting error_score='raise'.\n",
      "\n",
      "Below are more details about the failures:\n",
      "--------------------------------------------------------------------------------\n",
      "80 fits failed with the following error:\n",
      "Traceback (most recent call last):\n",
      "  File \"c:\\Users\\ASUS TUF\\anaconda3\\lib\\site-packages\\sklearn\\model_selection\\_validation.py\", line 686, in _fit_and_score\n",
      "    estimator.fit(X_train, y_train, **fit_params)\n",
      "  File \"c:\\Users\\ASUS TUF\\anaconda3\\lib\\site-packages\\sklearn\\linear_model\\_ridge.py\", line 1130, in fit\n",
      "    return super().fit(X, y, sample_weight=sample_weight)\n",
      "  File \"c:\\Users\\ASUS TUF\\anaconda3\\lib\\site-packages\\sklearn\\linear_model\\_ridge.py\", line 821, in fit\n",
      "    raise ValueError(\n",
      "ValueError: solver='svd' does not support fitting the intercept on sparse data. Please set the solver to 'auto' or 'lsqr', 'sparse_cg', 'sag', 'lbfgs' or set `fit_intercept=False`\n",
      "\n",
      "--------------------------------------------------------------------------------\n",
      "80 fits failed with the following error:\n",
      "Traceback (most recent call last):\n",
      "  File \"c:\\Users\\ASUS TUF\\anaconda3\\lib\\site-packages\\sklearn\\model_selection\\_validation.py\", line 686, in _fit_and_score\n",
      "    estimator.fit(X_train, y_train, **fit_params)\n",
      "  File \"c:\\Users\\ASUS TUF\\anaconda3\\lib\\site-packages\\sklearn\\linear_model\\_ridge.py\", line 1130, in fit\n",
      "    return super().fit(X, y, sample_weight=sample_weight)\n",
      "  File \"c:\\Users\\ASUS TUF\\anaconda3\\lib\\site-packages\\sklearn\\linear_model\\_ridge.py\", line 821, in fit\n",
      "    raise ValueError(\n",
      "ValueError: solver='cholesky' does not support fitting the intercept on sparse data. Please set the solver to 'auto' or 'lsqr', 'sparse_cg', 'sag', 'lbfgs' or set `fit_intercept=False`\n",
      "\n",
      "--------------------------------------------------------------------------------\n",
      "80 fits failed with the following error:\n",
      "Traceback (most recent call last):\n",
      "  File \"c:\\Users\\ASUS TUF\\anaconda3\\lib\\site-packages\\sklearn\\model_selection\\_validation.py\", line 686, in _fit_and_score\n",
      "    estimator.fit(X_train, y_train, **fit_params)\n",
      "  File \"c:\\Users\\ASUS TUF\\anaconda3\\lib\\site-packages\\sklearn\\linear_model\\_ridge.py\", line 1130, in fit\n",
      "    return super().fit(X, y, sample_weight=sample_weight)\n",
      "  File \"c:\\Users\\ASUS TUF\\anaconda3\\lib\\site-packages\\sklearn\\linear_model\\_ridge.py\", line 821, in fit\n",
      "    raise ValueError(\n",
      "ValueError: solver='saga' does not support fitting the intercept on sparse data. Please set the solver to 'auto' or 'lsqr', 'sparse_cg', 'sag', 'lbfgs' or set `fit_intercept=False`\n",
      "\n",
      "--------------------------------------------------------------------------------\n",
      "90 fits failed with the following error:\n",
      "Traceback (most recent call last):\n",
      "  File \"c:\\Users\\ASUS TUF\\anaconda3\\lib\\site-packages\\sklearn\\model_selection\\_validation.py\", line 686, in _fit_and_score\n",
      "    estimator.fit(X_train, y_train, **fit_params)\n",
      "  File \"c:\\Users\\ASUS TUF\\anaconda3\\lib\\site-packages\\sklearn\\linear_model\\_ridge.py\", line 1130, in fit\n",
      "    return super().fit(X, y, sample_weight=sample_weight)\n",
      "  File \"c:\\Users\\ASUS TUF\\anaconda3\\lib\\site-packages\\sklearn\\linear_model\\_ridge.py\", line 889, in fit\n",
      "    self.coef_, self.n_iter_ = _ridge_regression(\n",
      "  File \"c:\\Users\\ASUS TUF\\anaconda3\\lib\\site-packages\\sklearn\\linear_model\\_ridge.py\", line 757, in _ridge_regression\n",
      "    raise TypeError(\"SVD solver does not support sparse inputs currently\")\n",
      "TypeError: SVD solver does not support sparse inputs currently\n",
      "\n",
      "  warnings.warn(some_fits_failed_message, FitFailedWarning)\n",
      "c:\\Users\\ASUS TUF\\anaconda3\\lib\\site-packages\\sklearn\\model_selection\\_search.py:953: UserWarning: One or more of the test scores are non-finite: [            nan             nan -35821.76540047 -35816.16840284\n",
      " -36805.02590465             nan             nan -35698.09717821\n",
      " -35699.2413555  -35705.46972157 -35699.07257809 -35697.48943016\n",
      "             nan             nan -35797.32303922 -35805.63534816\n",
      " -36727.99486671             nan             nan -35675.47617459\n",
      " -35669.55112294 -35675.91178738 -35673.28422986 -35676.970165\n",
      "             nan             nan -37651.74155592 -37694.45061282\n",
      " -38563.9461867              nan             nan -37470.17643943\n",
      " -37333.04410857 -37228.34838123 -37430.61064702 -37375.06847537\n",
      "             nan             nan -41858.82503693 -41888.02491727\n",
      " -42575.37692152             nan             nan -41875.55236694\n",
      " -41073.06562366 -40405.85372467 -41437.58583431 -41022.47623328\n",
      "             nan             nan -43475.33185458 -43778.2307753\n",
      " -44186.28098884             nan             nan -44072.87134189\n",
      " -42765.559259   -41653.90925197 -43198.91043069 -42470.32966239\n",
      "             nan             nan -43824.40665889 -44106.82944044\n",
      " -44418.63077989             nan             nan -44478.31119585\n",
      " -43060.01730238 -41797.35964287 -43463.00581227 -42667.78975449\n",
      "             nan             nan -43850.24235459 -44175.07410332\n",
      " -44429.12643539             nan             nan -44524.0864281\n",
      " -43078.25312273 -42012.18632842 -43481.46513455 -42674.34499774\n",
      "             nan             nan -43853.12496868 -44150.91048012\n",
      " -44445.70938769             nan             nan             nan\n",
      " -43080.2850874  -41803.47787579 -43491.44600712 -42688.75619155]\n",
      "  warnings.warn(\n"
     ]
    },
    {
     "data": {
      "text/html": [
       "<style>#sk-container-id-2 {color: black;background-color: white;}#sk-container-id-2 pre{padding: 0;}#sk-container-id-2 div.sk-toggleable {background-color: white;}#sk-container-id-2 label.sk-toggleable__label {cursor: pointer;display: block;width: 100%;margin-bottom: 0;padding: 0.3em;box-sizing: border-box;text-align: center;}#sk-container-id-2 label.sk-toggleable__label-arrow:before {content: \"▸\";float: left;margin-right: 0.25em;color: #696969;}#sk-container-id-2 label.sk-toggleable__label-arrow:hover:before {color: black;}#sk-container-id-2 div.sk-estimator:hover label.sk-toggleable__label-arrow:before {color: black;}#sk-container-id-2 div.sk-toggleable__content {max-height: 0;max-width: 0;overflow: hidden;text-align: left;background-color: #f0f8ff;}#sk-container-id-2 div.sk-toggleable__content pre {margin: 0.2em;color: black;border-radius: 0.25em;background-color: #f0f8ff;}#sk-container-id-2 input.sk-toggleable__control:checked~div.sk-toggleable__content {max-height: 200px;max-width: 100%;overflow: auto;}#sk-container-id-2 input.sk-toggleable__control:checked~label.sk-toggleable__label-arrow:before {content: \"▾\";}#sk-container-id-2 div.sk-estimator input.sk-toggleable__control:checked~label.sk-toggleable__label {background-color: #d4ebff;}#sk-container-id-2 div.sk-label input.sk-toggleable__control:checked~label.sk-toggleable__label {background-color: #d4ebff;}#sk-container-id-2 input.sk-hidden--visually {border: 0;clip: rect(1px 1px 1px 1px);clip: rect(1px, 1px, 1px, 1px);height: 1px;margin: -1px;overflow: hidden;padding: 0;position: absolute;width: 1px;}#sk-container-id-2 div.sk-estimator {font-family: monospace;background-color: #f0f8ff;border: 1px dotted black;border-radius: 0.25em;box-sizing: border-box;margin-bottom: 0.5em;}#sk-container-id-2 div.sk-estimator:hover {background-color: #d4ebff;}#sk-container-id-2 div.sk-parallel-item::after {content: \"\";width: 100%;border-bottom: 1px solid gray;flex-grow: 1;}#sk-container-id-2 div.sk-label:hover label.sk-toggleable__label {background-color: #d4ebff;}#sk-container-id-2 div.sk-serial::before {content: \"\";position: absolute;border-left: 1px solid gray;box-sizing: border-box;top: 0;bottom: 0;left: 50%;z-index: 0;}#sk-container-id-2 div.sk-serial {display: flex;flex-direction: column;align-items: center;background-color: white;padding-right: 0.2em;padding-left: 0.2em;position: relative;}#sk-container-id-2 div.sk-item {position: relative;z-index: 1;}#sk-container-id-2 div.sk-parallel {display: flex;align-items: stretch;justify-content: center;background-color: white;position: relative;}#sk-container-id-2 div.sk-item::before, #sk-container-id-2 div.sk-parallel-item::before {content: \"\";position: absolute;border-left: 1px solid gray;box-sizing: border-box;top: 0;bottom: 0;left: 50%;z-index: -1;}#sk-container-id-2 div.sk-parallel-item {display: flex;flex-direction: column;z-index: 1;position: relative;background-color: white;}#sk-container-id-2 div.sk-parallel-item:first-child::after {align-self: flex-end;width: 50%;}#sk-container-id-2 div.sk-parallel-item:last-child::after {align-self: flex-start;width: 50%;}#sk-container-id-2 div.sk-parallel-item:only-child::after {width: 0;}#sk-container-id-2 div.sk-dashed-wrapped {border: 1px dashed gray;margin: 0 0.4em 0.5em 0.4em;box-sizing: border-box;padding-bottom: 0.4em;background-color: white;}#sk-container-id-2 div.sk-label label {font-family: monospace;font-weight: bold;display: inline-block;line-height: 1.2em;}#sk-container-id-2 div.sk-label-container {text-align: center;}#sk-container-id-2 div.sk-container {/* jupyter's `normalize.less` sets `[hidden] { display: none; }` but bootstrap.min.css set `[hidden] { display: none !important; }` so we also need the `!important` here to be able to override the default hidden behavior on the sphinx rendered scikit-learn.org. See: https://github.com/scikit-learn/scikit-learn/issues/21755 */display: inline-block !important;position: relative;}#sk-container-id-2 div.sk-text-repr-fallback {display: none;}</style><div id=\"sk-container-id-2\" class=\"sk-top-container\"><div class=\"sk-text-repr-fallback\"><pre>GridSearchCV(cv=10, estimator=Ridge(), n_jobs=-1,\n",
       "             param_grid={&#x27;alpha&#x27;: [20, 10, 1, 0.1, 0.01, 0.001, 0.0001, 0],\n",
       "                         &#x27;fit_intercept&#x27;: [True, False],\n",
       "                         &#x27;solver&#x27;: [&#x27;svd&#x27;, &#x27;cholesky&#x27;, &#x27;lsqr&#x27;, &#x27;sparse_cg&#x27;,\n",
       "                                    &#x27;sag&#x27;, &#x27;saga&#x27;]},\n",
       "             scoring=&#x27;neg_mean_absolute_error&#x27;)</pre><b>In a Jupyter environment, please rerun this cell to show the HTML representation or trust the notebook. <br />On GitHub, the HTML representation is unable to render, please try loading this page with nbviewer.org.</b></div><div class=\"sk-container\" hidden><div class=\"sk-item sk-dashed-wrapped\"><div class=\"sk-label-container\"><div class=\"sk-label sk-toggleable\"><input class=\"sk-toggleable__control sk-hidden--visually\" id=\"sk-estimator-id-10\" type=\"checkbox\" ><label for=\"sk-estimator-id-10\" class=\"sk-toggleable__label sk-toggleable__label-arrow\">GridSearchCV</label><div class=\"sk-toggleable__content\"><pre>GridSearchCV(cv=10, estimator=Ridge(), n_jobs=-1,\n",
       "             param_grid={&#x27;alpha&#x27;: [20, 10, 1, 0.1, 0.01, 0.001, 0.0001, 0],\n",
       "                         &#x27;fit_intercept&#x27;: [True, False],\n",
       "                         &#x27;solver&#x27;: [&#x27;svd&#x27;, &#x27;cholesky&#x27;, &#x27;lsqr&#x27;, &#x27;sparse_cg&#x27;,\n",
       "                                    &#x27;sag&#x27;, &#x27;saga&#x27;]},\n",
       "             scoring=&#x27;neg_mean_absolute_error&#x27;)</pre></div></div></div><div class=\"sk-parallel\"><div class=\"sk-parallel-item\"><div class=\"sk-item\"><div class=\"sk-label-container\"><div class=\"sk-label sk-toggleable\"><input class=\"sk-toggleable__control sk-hidden--visually\" id=\"sk-estimator-id-11\" type=\"checkbox\" ><label for=\"sk-estimator-id-11\" class=\"sk-toggleable__label sk-toggleable__label-arrow\">estimator: Ridge</label><div class=\"sk-toggleable__content\"><pre>Ridge()</pre></div></div></div><div class=\"sk-serial\"><div class=\"sk-item\"><div class=\"sk-estimator sk-toggleable\"><input class=\"sk-toggleable__control sk-hidden--visually\" id=\"sk-estimator-id-12\" type=\"checkbox\" ><label for=\"sk-estimator-id-12\" class=\"sk-toggleable__label sk-toggleable__label-arrow\">Ridge</label><div class=\"sk-toggleable__content\"><pre>Ridge()</pre></div></div></div></div></div></div></div></div></div></div>"
      ],
      "text/plain": [
       "GridSearchCV(cv=10, estimator=Ridge(), n_jobs=-1,\n",
       "             param_grid={'alpha': [20, 10, 1, 0.1, 0.01, 0.001, 0.0001, 0],\n",
       "                         'fit_intercept': [True, False],\n",
       "                         'solver': ['svd', 'cholesky', 'lsqr', 'sparse_cg',\n",
       "                                    'sag', 'saga']},\n",
       "             scoring='neg_mean_absolute_error')"
      ]
     },
     "execution_count": 39,
     "metadata": {},
     "output_type": "execute_result"
    }
   ],
   "source": [
    "params_Ridge = {'alpha': [20,10,1,0.1,0.01,0.001,0.0001,0] , \"fit_intercept\": [True, False], \"solver\": ['svd', 'cholesky', 'lsqr', 'sparse_cg', 'sag', 'saga']}\n",
    "Ridge_GS = GridSearchCV(Ridge(), param_grid=params_Ridge, n_jobs=-1,scoring=\"neg_mean_absolute_error\",cv=10)\n",
    "Ridge_GS.fit(X_train_final,y_train)"
   ]
  },
  {
   "cell_type": "code",
   "execution_count": 40,
   "metadata": {},
   "outputs": [
    {
     "data": {
      "text/html": [
       "<style>#sk-container-id-3 {color: black;background-color: white;}#sk-container-id-3 pre{padding: 0;}#sk-container-id-3 div.sk-toggleable {background-color: white;}#sk-container-id-3 label.sk-toggleable__label {cursor: pointer;display: block;width: 100%;margin-bottom: 0;padding: 0.3em;box-sizing: border-box;text-align: center;}#sk-container-id-3 label.sk-toggleable__label-arrow:before {content: \"▸\";float: left;margin-right: 0.25em;color: #696969;}#sk-container-id-3 label.sk-toggleable__label-arrow:hover:before {color: black;}#sk-container-id-3 div.sk-estimator:hover label.sk-toggleable__label-arrow:before {color: black;}#sk-container-id-3 div.sk-toggleable__content {max-height: 0;max-width: 0;overflow: hidden;text-align: left;background-color: #f0f8ff;}#sk-container-id-3 div.sk-toggleable__content pre {margin: 0.2em;color: black;border-radius: 0.25em;background-color: #f0f8ff;}#sk-container-id-3 input.sk-toggleable__control:checked~div.sk-toggleable__content {max-height: 200px;max-width: 100%;overflow: auto;}#sk-container-id-3 input.sk-toggleable__control:checked~label.sk-toggleable__label-arrow:before {content: \"▾\";}#sk-container-id-3 div.sk-estimator input.sk-toggleable__control:checked~label.sk-toggleable__label {background-color: #d4ebff;}#sk-container-id-3 div.sk-label input.sk-toggleable__control:checked~label.sk-toggleable__label {background-color: #d4ebff;}#sk-container-id-3 input.sk-hidden--visually {border: 0;clip: rect(1px 1px 1px 1px);clip: rect(1px, 1px, 1px, 1px);height: 1px;margin: -1px;overflow: hidden;padding: 0;position: absolute;width: 1px;}#sk-container-id-3 div.sk-estimator {font-family: monospace;background-color: #f0f8ff;border: 1px dotted black;border-radius: 0.25em;box-sizing: border-box;margin-bottom: 0.5em;}#sk-container-id-3 div.sk-estimator:hover {background-color: #d4ebff;}#sk-container-id-3 div.sk-parallel-item::after {content: \"\";width: 100%;border-bottom: 1px solid gray;flex-grow: 1;}#sk-container-id-3 div.sk-label:hover label.sk-toggleable__label {background-color: #d4ebff;}#sk-container-id-3 div.sk-serial::before {content: \"\";position: absolute;border-left: 1px solid gray;box-sizing: border-box;top: 0;bottom: 0;left: 50%;z-index: 0;}#sk-container-id-3 div.sk-serial {display: flex;flex-direction: column;align-items: center;background-color: white;padding-right: 0.2em;padding-left: 0.2em;position: relative;}#sk-container-id-3 div.sk-item {position: relative;z-index: 1;}#sk-container-id-3 div.sk-parallel {display: flex;align-items: stretch;justify-content: center;background-color: white;position: relative;}#sk-container-id-3 div.sk-item::before, #sk-container-id-3 div.sk-parallel-item::before {content: \"\";position: absolute;border-left: 1px solid gray;box-sizing: border-box;top: 0;bottom: 0;left: 50%;z-index: -1;}#sk-container-id-3 div.sk-parallel-item {display: flex;flex-direction: column;z-index: 1;position: relative;background-color: white;}#sk-container-id-3 div.sk-parallel-item:first-child::after {align-self: flex-end;width: 50%;}#sk-container-id-3 div.sk-parallel-item:last-child::after {align-self: flex-start;width: 50%;}#sk-container-id-3 div.sk-parallel-item:only-child::after {width: 0;}#sk-container-id-3 div.sk-dashed-wrapped {border: 1px dashed gray;margin: 0 0.4em 0.5em 0.4em;box-sizing: border-box;padding-bottom: 0.4em;background-color: white;}#sk-container-id-3 div.sk-label label {font-family: monospace;font-weight: bold;display: inline-block;line-height: 1.2em;}#sk-container-id-3 div.sk-label-container {text-align: center;}#sk-container-id-3 div.sk-container {/* jupyter's `normalize.less` sets `[hidden] { display: none; }` but bootstrap.min.css set `[hidden] { display: none !important; }` so we also need the `!important` here to be able to override the default hidden behavior on the sphinx rendered scikit-learn.org. See: https://github.com/scikit-learn/scikit-learn/issues/21755 */display: inline-block !important;position: relative;}#sk-container-id-3 div.sk-text-repr-fallback {display: none;}</style><div id=\"sk-container-id-3\" class=\"sk-top-container\"><div class=\"sk-text-repr-fallback\"><pre>Ridge(alpha=10, fit_intercept=False, solver=&#x27;lsqr&#x27;)</pre><b>In a Jupyter environment, please rerun this cell to show the HTML representation or trust the notebook. <br />On GitHub, the HTML representation is unable to render, please try loading this page with nbviewer.org.</b></div><div class=\"sk-container\" hidden><div class=\"sk-item\"><div class=\"sk-estimator sk-toggleable\"><input class=\"sk-toggleable__control sk-hidden--visually\" id=\"sk-estimator-id-13\" type=\"checkbox\" checked><label for=\"sk-estimator-id-13\" class=\"sk-toggleable__label sk-toggleable__label-arrow\">Ridge</label><div class=\"sk-toggleable__content\"><pre>Ridge(alpha=10, fit_intercept=False, solver=&#x27;lsqr&#x27;)</pre></div></div></div></div></div>"
      ],
      "text/plain": [
       "Ridge(alpha=10, fit_intercept=False, solver='lsqr')"
      ]
     },
     "execution_count": 40,
     "metadata": {},
     "output_type": "execute_result"
    }
   ],
   "source": [
    "Ridge_GS.best_estimator_"
   ]
  },
  {
   "cell_type": "markdown",
   "metadata": {},
   "source": [
    "> Keterangan:\n",
    "1. Dilakukan Hyperparameter Tuning untuk melakukan improvement atau optimasi terhadap mode.\n",
    "2. Hyperparameter tuning pada kasus ini menggunakan Modul GridSearchCV.\n",
    "3. Adapaun Hyperparameter yang diuji cobakan diantaranya:\n",
    "    - alpha           : [20,10,1,0.1,0.01,0.001,0.0001,0] \n",
    "    - fit_intercept   : [True, False]\n",
    "    - solver\"         : ['svd', 'cholesky', 'lsqr', 'sparse_cg', 'sag', 'saga']\n",
    "    - Dari variasi ini akan muncul 960 variasi perhitungan dengan ketentuan cv=10\n",
    "4. Setelah diproses ditemukan best_estimator dengan ketentuan `Ridge(alpha=10, fit_intercept=False, solver='lsqr')`\n",
    "5. Hyperparameter terbaik ini akan diuji cobakan kedalam data testing."
   ]
  },
  {
   "cell_type": "markdown",
   "metadata": {},
   "source": [
    "# VIII - Model Evaluation"
   ]
  },
  {
   "cell_type": "markdown",
   "metadata": {},
   "source": [
    "> Pada bagian ini, dilakukan evaluasi model yang harus menunjukkan bagaimana performa model berdasarkan metrics yang dipilih. Hal ini harus dibuktikan dengan visualisasi tren performa dan/atau tingkat kesalahan model. Lakukan analisis terkait dengan hasil pada model dan tuliskan hasil analisisnya."
   ]
  },
  {
   "cell_type": "markdown",
   "metadata": {},
   "source": [
    "#### **a. Ridge Regression Best Model (Model Evaluation)**"
   ]
  },
  {
   "cell_type": "code",
   "execution_count": 41,
   "metadata": {},
   "outputs": [],
   "source": [
    "X_test_final = full_pipeline.transform(X_test)"
   ]
  },
  {
   "cell_type": "code",
   "execution_count": 42,
   "metadata": {},
   "outputs": [
    {
     "name": "stdout",
     "output_type": "stream",
     "text": [
      "MAE REPORT Training Model Ridge Regression\n",
      "32579.478663823626\n",
      "\n",
      "MAE REPORT Test Model Ridge Regression\n",
      "28655.863223324985\n"
     ]
    }
   ],
   "source": [
    "# Predict Ridge Regression Train-Set and Test-Set \n",
    "y_pred_train = Ridge_GS.predict(X_train_final)\n",
    "y_pred_test = Ridge_GS.predict(X_test_final)\n",
    "# Model Evaluation using Classification Report in Ridge Regression\n",
    "print(\"MAE REPORT Training Model Ridge Regression\")\n",
    "print(mean_absolute_error(y_train, y_pred_train))\n",
    "print(\"\")\n",
    "print(\"MAE REPORT Test Model Ridge Regression\")\n",
    "print(mean_absolute_error(y_test, y_pred_test))"
   ]
  },
  {
   "cell_type": "markdown",
   "metadata": {},
   "source": [
    "> Keterangan:\n",
    "1. Pada tahap ini dilakukan evaluasi dengan model dan hyperparameter terpilih kepada Data Train dan Data Test.\n",
    "2. Untuk mengetahui besarnya error dari nilai MAE perlu dibandingan denga range data Salary itu sendiri. Range data `salary` adalah 597.000\n",
    "3. Kemudian setelah diuji cobakan diketahui bahwa:\n",
    "    - Nilai MAE Data Train yaitu 32.580 (Error= 5,5%)\n",
    "    - Nilai MAE Data Test yaitu 28.655 (Error= 4,8%)\n",
    "    - Berdasarkan pertimbangan terhadap data salary, MAE Train, dan MAE Test. Penulis mengatakan bahwa Model ini adalah **`GOOD-FIT`** karena selisih antara test dan train hanya 0,7%.\n",
    "4. Dengan hasil penilaian tersebut Model ini cocok untuk digunakan pada dataset baru\n"
   ]
  },
  {
   "cell_type": "markdown",
   "metadata": {},
   "source": [
    "# X - Model Inference"
   ]
  },
  {
   "cell_type": "code",
   "execution_count": 43,
   "metadata": {},
   "outputs": [
    {
     "data": {
      "text/html": [
       "<div>\n",
       "<style scoped>\n",
       "    .dataframe tbody tr th:only-of-type {\n",
       "        vertical-align: middle;\n",
       "    }\n",
       "\n",
       "    .dataframe tbody tr th {\n",
       "        vertical-align: top;\n",
       "    }\n",
       "\n",
       "    .dataframe thead th {\n",
       "        text-align: right;\n",
       "    }\n",
       "</style>\n",
       "<table border=\"1\" class=\"dataframe\">\n",
       "  <thead>\n",
       "    <tr style=\"text-align: right;\">\n",
       "      <th></th>\n",
       "      <th>work_year</th>\n",
       "      <th>experience_level</th>\n",
       "      <th>employment_type</th>\n",
       "      <th>job_title</th>\n",
       "      <th>employee_residence</th>\n",
       "      <th>remote_ratio</th>\n",
       "      <th>company_location</th>\n",
       "      <th>company_size</th>\n",
       "      <th>salary</th>\n",
       "    </tr>\n",
       "  </thead>\n",
       "  <tbody>\n",
       "    <tr>\n",
       "      <th>0</th>\n",
       "      <td>2021</td>\n",
       "      <td>SE</td>\n",
       "      <td>FT</td>\n",
       "      <td>Principal Data Scientist</td>\n",
       "      <td>US</td>\n",
       "      <td>0</td>\n",
       "      <td>US</td>\n",
       "      <td>L</td>\n",
       "      <td>220000</td>\n",
       "    </tr>\n",
       "    <tr>\n",
       "      <th>1</th>\n",
       "      <td>2022</td>\n",
       "      <td>SE</td>\n",
       "      <td>FT</td>\n",
       "      <td>Data Scientist</td>\n",
       "      <td>US</td>\n",
       "      <td>0</td>\n",
       "      <td>US</td>\n",
       "      <td>M</td>\n",
       "      <td>140400</td>\n",
       "    </tr>\n",
       "    <tr>\n",
       "      <th>2</th>\n",
       "      <td>2021</td>\n",
       "      <td>MI</td>\n",
       "      <td>FT</td>\n",
       "      <td>Data Scientist</td>\n",
       "      <td>CA</td>\n",
       "      <td>100</td>\n",
       "      <td>CA</td>\n",
       "      <td>L</td>\n",
       "      <td>75774</td>\n",
       "    </tr>\n",
       "    <tr>\n",
       "      <th>3</th>\n",
       "      <td>2022</td>\n",
       "      <td>SE</td>\n",
       "      <td>FT</td>\n",
       "      <td>Data Analyst</td>\n",
       "      <td>US</td>\n",
       "      <td>0</td>\n",
       "      <td>US</td>\n",
       "      <td>M</td>\n",
       "      <td>164000</td>\n",
       "    </tr>\n",
       "    <tr>\n",
       "      <th>4</th>\n",
       "      <td>2022</td>\n",
       "      <td>MI</td>\n",
       "      <td>FT</td>\n",
       "      <td>Data Engineer</td>\n",
       "      <td>ES</td>\n",
       "      <td>100</td>\n",
       "      <td>ES</td>\n",
       "      <td>M</td>\n",
       "      <td>76940</td>\n",
       "    </tr>\n",
       "    <tr>\n",
       "      <th>5</th>\n",
       "      <td>2021</td>\n",
       "      <td>MI</td>\n",
       "      <td>FT</td>\n",
       "      <td>Data Scientist</td>\n",
       "      <td>DE</td>\n",
       "      <td>50</td>\n",
       "      <td>DE</td>\n",
       "      <td>L</td>\n",
       "      <td>90734</td>\n",
       "    </tr>\n",
       "    <tr>\n",
       "      <th>6</th>\n",
       "      <td>2022</td>\n",
       "      <td>MI</td>\n",
       "      <td>FT</td>\n",
       "      <td>Data Scientist</td>\n",
       "      <td>US</td>\n",
       "      <td>100</td>\n",
       "      <td>US</td>\n",
       "      <td>M</td>\n",
       "      <td>200000</td>\n",
       "    </tr>\n",
       "    <tr>\n",
       "      <th>7</th>\n",
       "      <td>2020</td>\n",
       "      <td>EN</td>\n",
       "      <td>FT</td>\n",
       "      <td>Data Scientist</td>\n",
       "      <td>US</td>\n",
       "      <td>100</td>\n",
       "      <td>US</td>\n",
       "      <td>S</td>\n",
       "      <td>105000</td>\n",
       "    </tr>\n",
       "    <tr>\n",
       "      <th>8</th>\n",
       "      <td>2022</td>\n",
       "      <td>SE</td>\n",
       "      <td>FT</td>\n",
       "      <td>Data Scientist</td>\n",
       "      <td>GB</td>\n",
       "      <td>0</td>\n",
       "      <td>GB</td>\n",
       "      <td>M</td>\n",
       "      <td>117789</td>\n",
       "    </tr>\n",
       "    <tr>\n",
       "      <th>9</th>\n",
       "      <td>2021</td>\n",
       "      <td>SE</td>\n",
       "      <td>FT</td>\n",
       "      <td>Data Analyst</td>\n",
       "      <td>CA</td>\n",
       "      <td>100</td>\n",
       "      <td>CA</td>\n",
       "      <td>M</td>\n",
       "      <td>71786</td>\n",
       "    </tr>\n",
       "  </tbody>\n",
       "</table>\n",
       "</div>"
      ],
      "text/plain": [
       "   work_year experience_level employment_type                 job_title  \\\n",
       "0       2021               SE              FT  Principal Data Scientist   \n",
       "1       2022               SE              FT            Data Scientist   \n",
       "2       2021               MI              FT            Data Scientist   \n",
       "3       2022               SE              FT              Data Analyst   \n",
       "4       2022               MI              FT             Data Engineer   \n",
       "5       2021               MI              FT            Data Scientist   \n",
       "6       2022               MI              FT            Data Scientist   \n",
       "7       2020               EN              FT            Data Scientist   \n",
       "8       2022               SE              FT            Data Scientist   \n",
       "9       2021               SE              FT              Data Analyst   \n",
       "\n",
       "  employee_residence  remote_ratio company_location company_size  salary  \n",
       "0                 US             0               US            L  220000  \n",
       "1                 US             0               US            M  140400  \n",
       "2                 CA           100               CA            L   75774  \n",
       "3                 US             0               US            M  164000  \n",
       "4                 ES           100               ES            M   76940  \n",
       "5                 DE            50               DE            L   90734  \n",
       "6                 US           100               US            M  200000  \n",
       "7                 US           100               US            S  105000  \n",
       "8                 GB             0               GB            M  117789  \n",
       "9                 CA           100               CA            M   71786  "
      ]
     },
     "execution_count": 43,
     "metadata": {},
     "output_type": "execute_result"
    }
   ],
   "source": [
    "# Display Inference-Set\n",
    "df_inf"
   ]
  },
  {
   "cell_type": "code",
   "execution_count": 44,
   "metadata": {},
   "outputs": [],
   "source": [
    "# Feature Scaling dan Encoding using Pipeline\n",
    "data_inf_final=full_pipeline.transform(df_inf)"
   ]
  },
  {
   "cell_type": "code",
   "execution_count": 45,
   "metadata": {},
   "outputs": [
    {
     "data": {
      "text/plain": [
       "array([204017.60560425, 154327.3636688 ,  89281.9019287 , 126752.07804689,\n",
       "        51669.1612155 ,  79368.95652187, 131131.36009891,  99143.84589196,\n",
       "       103314.44917566,  83702.45611176])"
      ]
     },
     "execution_count": 45,
     "metadata": {},
     "output_type": "execute_result"
    }
   ],
   "source": [
    "# Predict using Risge Regression Best Hyperparameter\n",
    "y_pred_inf = Ridge_GS.predict(data_inf_final)\n",
    "y_pred_inf"
   ]
  },
  {
   "cell_type": "code",
   "execution_count": 46,
   "metadata": {},
   "outputs": [
    {
     "data": {
      "text/html": [
       "<div>\n",
       "<style scoped>\n",
       "    .dataframe tbody tr th:only-of-type {\n",
       "        vertical-align: middle;\n",
       "    }\n",
       "\n",
       "    .dataframe tbody tr th {\n",
       "        vertical-align: top;\n",
       "    }\n",
       "\n",
       "    .dataframe thead th {\n",
       "        text-align: right;\n",
       "    }\n",
       "</style>\n",
       "<table border=\"1\" class=\"dataframe\">\n",
       "  <thead>\n",
       "    <tr style=\"text-align: right;\">\n",
       "      <th></th>\n",
       "      <th>salary - Prediction</th>\n",
       "    </tr>\n",
       "  </thead>\n",
       "  <tbody>\n",
       "    <tr>\n",
       "      <th>0</th>\n",
       "      <td>204017.605604</td>\n",
       "    </tr>\n",
       "    <tr>\n",
       "      <th>1</th>\n",
       "      <td>154327.363669</td>\n",
       "    </tr>\n",
       "    <tr>\n",
       "      <th>2</th>\n",
       "      <td>89281.901929</td>\n",
       "    </tr>\n",
       "    <tr>\n",
       "      <th>3</th>\n",
       "      <td>126752.078047</td>\n",
       "    </tr>\n",
       "    <tr>\n",
       "      <th>4</th>\n",
       "      <td>51669.161215</td>\n",
       "    </tr>\n",
       "    <tr>\n",
       "      <th>5</th>\n",
       "      <td>79368.956522</td>\n",
       "    </tr>\n",
       "    <tr>\n",
       "      <th>6</th>\n",
       "      <td>131131.360099</td>\n",
       "    </tr>\n",
       "    <tr>\n",
       "      <th>7</th>\n",
       "      <td>99143.845892</td>\n",
       "    </tr>\n",
       "    <tr>\n",
       "      <th>8</th>\n",
       "      <td>103314.449176</td>\n",
       "    </tr>\n",
       "    <tr>\n",
       "      <th>9</th>\n",
       "      <td>83702.456112</td>\n",
       "    </tr>\n",
       "  </tbody>\n",
       "</table>\n",
       "</div>"
      ],
      "text/plain": [
       "   salary - Prediction\n",
       "0        204017.605604\n",
       "1        154327.363669\n",
       "2         89281.901929\n",
       "3        126752.078047\n",
       "4         51669.161215\n",
       "5         79368.956522\n",
       "6        131131.360099\n",
       "7         99143.845892\n",
       "8        103314.449176\n",
       "9         83702.456112"
      ]
     },
     "execution_count": 46,
     "metadata": {},
     "output_type": "execute_result"
    }
   ],
   "source": [
    "# Create DataFrame of Salary's Prediction\n",
    "y_pred_inf_df = pd.DataFrame(y_pred_inf, columns=['salary - Prediction'])\n",
    "y_pred_inf_df"
   ]
  },
  {
   "cell_type": "code",
   "execution_count": 47,
   "metadata": {},
   "outputs": [
    {
     "data": {
      "text/html": [
       "<div>\n",
       "<style scoped>\n",
       "    .dataframe tbody tr th:only-of-type {\n",
       "        vertical-align: middle;\n",
       "    }\n",
       "\n",
       "    .dataframe tbody tr th {\n",
       "        vertical-align: top;\n",
       "    }\n",
       "\n",
       "    .dataframe thead th {\n",
       "        text-align: right;\n",
       "    }\n",
       "</style>\n",
       "<table border=\"1\" class=\"dataframe\">\n",
       "  <thead>\n",
       "    <tr style=\"text-align: right;\">\n",
       "      <th></th>\n",
       "      <th>work_year</th>\n",
       "      <th>experience_level</th>\n",
       "      <th>employment_type</th>\n",
       "      <th>job_title</th>\n",
       "      <th>employee_residence</th>\n",
       "      <th>remote_ratio</th>\n",
       "      <th>company_location</th>\n",
       "      <th>company_size</th>\n",
       "      <th>salary</th>\n",
       "      <th>salary - Prediction</th>\n",
       "    </tr>\n",
       "  </thead>\n",
       "  <tbody>\n",
       "    <tr>\n",
       "      <th>0</th>\n",
       "      <td>2021</td>\n",
       "      <td>SE</td>\n",
       "      <td>FT</td>\n",
       "      <td>Principal Data Scientist</td>\n",
       "      <td>US</td>\n",
       "      <td>0</td>\n",
       "      <td>US</td>\n",
       "      <td>L</td>\n",
       "      <td>220000</td>\n",
       "      <td>204017.605604</td>\n",
       "    </tr>\n",
       "    <tr>\n",
       "      <th>1</th>\n",
       "      <td>2022</td>\n",
       "      <td>SE</td>\n",
       "      <td>FT</td>\n",
       "      <td>Data Scientist</td>\n",
       "      <td>US</td>\n",
       "      <td>0</td>\n",
       "      <td>US</td>\n",
       "      <td>M</td>\n",
       "      <td>140400</td>\n",
       "      <td>154327.363669</td>\n",
       "    </tr>\n",
       "    <tr>\n",
       "      <th>2</th>\n",
       "      <td>2021</td>\n",
       "      <td>MI</td>\n",
       "      <td>FT</td>\n",
       "      <td>Data Scientist</td>\n",
       "      <td>CA</td>\n",
       "      <td>100</td>\n",
       "      <td>CA</td>\n",
       "      <td>L</td>\n",
       "      <td>75774</td>\n",
       "      <td>89281.901929</td>\n",
       "    </tr>\n",
       "    <tr>\n",
       "      <th>3</th>\n",
       "      <td>2022</td>\n",
       "      <td>SE</td>\n",
       "      <td>FT</td>\n",
       "      <td>Data Analyst</td>\n",
       "      <td>US</td>\n",
       "      <td>0</td>\n",
       "      <td>US</td>\n",
       "      <td>M</td>\n",
       "      <td>164000</td>\n",
       "      <td>126752.078047</td>\n",
       "    </tr>\n",
       "    <tr>\n",
       "      <th>4</th>\n",
       "      <td>2022</td>\n",
       "      <td>MI</td>\n",
       "      <td>FT</td>\n",
       "      <td>Data Engineer</td>\n",
       "      <td>ES</td>\n",
       "      <td>100</td>\n",
       "      <td>ES</td>\n",
       "      <td>M</td>\n",
       "      <td>76940</td>\n",
       "      <td>51669.161215</td>\n",
       "    </tr>\n",
       "    <tr>\n",
       "      <th>5</th>\n",
       "      <td>2021</td>\n",
       "      <td>MI</td>\n",
       "      <td>FT</td>\n",
       "      <td>Data Scientist</td>\n",
       "      <td>DE</td>\n",
       "      <td>50</td>\n",
       "      <td>DE</td>\n",
       "      <td>L</td>\n",
       "      <td>90734</td>\n",
       "      <td>79368.956522</td>\n",
       "    </tr>\n",
       "    <tr>\n",
       "      <th>6</th>\n",
       "      <td>2022</td>\n",
       "      <td>MI</td>\n",
       "      <td>FT</td>\n",
       "      <td>Data Scientist</td>\n",
       "      <td>US</td>\n",
       "      <td>100</td>\n",
       "      <td>US</td>\n",
       "      <td>M</td>\n",
       "      <td>200000</td>\n",
       "      <td>131131.360099</td>\n",
       "    </tr>\n",
       "    <tr>\n",
       "      <th>7</th>\n",
       "      <td>2020</td>\n",
       "      <td>EN</td>\n",
       "      <td>FT</td>\n",
       "      <td>Data Scientist</td>\n",
       "      <td>US</td>\n",
       "      <td>100</td>\n",
       "      <td>US</td>\n",
       "      <td>S</td>\n",
       "      <td>105000</td>\n",
       "      <td>99143.845892</td>\n",
       "    </tr>\n",
       "    <tr>\n",
       "      <th>8</th>\n",
       "      <td>2022</td>\n",
       "      <td>SE</td>\n",
       "      <td>FT</td>\n",
       "      <td>Data Scientist</td>\n",
       "      <td>GB</td>\n",
       "      <td>0</td>\n",
       "      <td>GB</td>\n",
       "      <td>M</td>\n",
       "      <td>117789</td>\n",
       "      <td>103314.449176</td>\n",
       "    </tr>\n",
       "    <tr>\n",
       "      <th>9</th>\n",
       "      <td>2021</td>\n",
       "      <td>SE</td>\n",
       "      <td>FT</td>\n",
       "      <td>Data Analyst</td>\n",
       "      <td>CA</td>\n",
       "      <td>100</td>\n",
       "      <td>CA</td>\n",
       "      <td>M</td>\n",
       "      <td>71786</td>\n",
       "      <td>83702.456112</td>\n",
       "    </tr>\n",
       "  </tbody>\n",
       "</table>\n",
       "</div>"
      ],
      "text/plain": [
       "   work_year experience_level employment_type                 job_title  \\\n",
       "0       2021               SE              FT  Principal Data Scientist   \n",
       "1       2022               SE              FT            Data Scientist   \n",
       "2       2021               MI              FT            Data Scientist   \n",
       "3       2022               SE              FT              Data Analyst   \n",
       "4       2022               MI              FT             Data Engineer   \n",
       "5       2021               MI              FT            Data Scientist   \n",
       "6       2022               MI              FT            Data Scientist   \n",
       "7       2020               EN              FT            Data Scientist   \n",
       "8       2022               SE              FT            Data Scientist   \n",
       "9       2021               SE              FT              Data Analyst   \n",
       "\n",
       "  employee_residence  remote_ratio company_location company_size  salary  \\\n",
       "0                 US             0               US            L  220000   \n",
       "1                 US             0               US            M  140400   \n",
       "2                 CA           100               CA            L   75774   \n",
       "3                 US             0               US            M  164000   \n",
       "4                 ES           100               ES            M   76940   \n",
       "5                 DE            50               DE            L   90734   \n",
       "6                 US           100               US            M  200000   \n",
       "7                 US           100               US            S  105000   \n",
       "8                 GB             0               GB            M  117789   \n",
       "9                 CA           100               CA            M   71786   \n",
       "\n",
       "   salary - Prediction  \n",
       "0        204017.605604  \n",
       "1        154327.363669  \n",
       "2         89281.901929  \n",
       "3        126752.078047  \n",
       "4         51669.161215  \n",
       "5         79368.956522  \n",
       "6        131131.360099  \n",
       "7         99143.845892  \n",
       "8        103314.449176  \n",
       "9         83702.456112  "
      ]
     },
     "execution_count": 47,
     "metadata": {},
     "output_type": "execute_result"
    }
   ],
   "source": [
    "# Concate between Inference-Set and Cluster's Prediction\n",
    "pd.concat([df_inf, y_pred_inf_df], axis=1)"
   ]
  },
  {
   "cell_type": "markdown",
   "metadata": {},
   "source": [
    "> Keterangan:\n",
    "- Dilakukan transforma X_test menggunakan full_pipeline agar dapat dilakukan predict pada tahap berikutnya.\n",
    "- Dilakukan prediksi data inference Menggunakan model Ridge regression dengan hyperparameter terbaik.\n",
    "- Setelah itu Hasil Prediksi yang telah dibuat disandigkan dengan Data salary asli pada dataframe baru.\n",
    "- Berdasarkan subjektifitas penulis prediksi yang dibuat sudah cukup baik."
   ]
  },
  {
   "cell_type": "markdown",
   "metadata": {},
   "source": [
    "# XI - Kesimpulan"
   ]
  },
  {
   "cell_type": "markdown",
   "metadata": {},
   "source": [
    "### I. Narasi based on Model Analysis\n",
    "> Terdapat penjelasan macam-macam hasil metric evaluasi dan interpretasinya terhadap kasus yang diselesaikan.\n",
    "1. Model Analysis - Metrik Evaluasi:\n",
    "- Pemilihan model dilakukan diantara linear regression, lasson regresion, ridge regression, SVR, dan Decision Tree Regresor\n",
    "- Pemilihan model didasari pada pengecekan cross validation yang diambil rata-rata scores terkecil dan rata-rata std terkecil. Oleh Karena itu Ridge Regression terpilih karena memiliki Mean Scores terkecil yaitu `37.700` dan Mean std terkecil `5.970`.\n",
    "- Pada Proses hyperparameter tuning didapatkan hyperparameter terbaik yaitu `Ridge(alpha=10, fit_intercept=False, solver='lsqr')`\n",
    "- Kemudian berdasarkan uji Data Train dan Data Test dengan selisih 0,7% ditemukan Model ini adalah **`GOOD-FIT`**\n",
    "2. Model Analysis - Interpretasi Kasus:\n",
    "- Model Prediksi terhadap gaji data Scientist ini sangat berguna untuk perusahaan-perusahaan yang memiliki niat untuk merekrut Data Scientist.\n",
    "- Prediksi ini tidak harus dijadikan pertimbangan utama karena diketahui masih memiliki error. Namun mencari data primer terhadap gaji seorang Data Scientist tidaklah mudah. Apalagi jika perusahaan harus berkonsultasi kepada para Job Hunter tentu biaya yang harus dikeluarkan tidaklah sedikit.\n",
    "- Model prediksi ini bisa menjadi bahan diskusi dan pertimbangan ketika suatu perusahaan ingin mengembangkan divisi datanya\n",
    "- Adapaun informasi lain yaitu:\n",
    "    - Dengan mengetahui kebutuhan suatu perusahaan, HR dapat mempertimbangkan pengalaman seorang data scientist yang perlu direkrut apakah harus yang senior, medium, ataupun junior. \n",
    "    - Selain itu perusahaan juga bisa memilih untuk merekrut Data Scientist yang sudah spesialis seperti Research Scientist atau yang masih umum seperti Data Scientist.\n",
    "    - Perusahaan juga dapat membandingkan offer yang diberikan perusahaan besar, menengah, dan kecil.\n",
    "    - Inti dari data ini bagi HR suatu perusahaan adalah prediksi budget yang harus dikeluarkan atau disiapkan ketika ingin merekrut seorang data scientist\n",
    "- Penggunaan pribadi bagi Mahasiswa yang ingin mengejar karier sebagai Data Scientist juga dapat digunakan dengan melihat spesialisasi Data Scientist apa yang menghasilkan paling banyak uang atau negara mana yang paling berani menghire seorang Data Scientist."
   ]
  },
  {
   "cell_type": "markdown",
   "metadata": {},
   "source": [
    "### II. Narasi Based on Model Evaluation\n",
    "> Dapat menjelaskan kelemahan/kekurangan dan kelebihan dari model yang dibuat.\n",
    "- Digunakan Model Regresi Ridge:\n",
    "- Kelebihan: (https://www.engati.com/glossary/ridge-regression)\n",
    "    - Proses Training cukup cepat\n",
    "    - Ridge regression sangat cocok untuk data dengan jumlah Fitur(column) yang banyaknya hampir menyamai Row nya\n",
    "    - Mampu mengurangi kompleksitas suatu model\n",
    "    - Mampu melindungi model dari OVer-Fitting\n",
    "- Kekurangan: (https://developers.google.com/machine-learning/clustering/algorithm/advantages-disadvantages)\n",
    "    - Ridge regression tidak mampu memberi rekomendasi mengenai fitur mana saja yang memberikan dampak dan tidak memberikan dampak\n",
    "    - Apabila proses Tuning Hyperparameter tidak baik, maka hasil evaluasi bisa sangat buruk\n",
    "    - Ridge regression menukar varians yang kecil dengan meningkatkan nilai bias."
   ]
  },
  {
   "cell_type": "markdown",
   "metadata": {},
   "source": [
    "### III. Further Improvement\n",
    "> Dapat memberikan statement untuk improvement selanjutnya dari model yang dibuat. \n",
    "- Penulis sudah cukup puas dengan model yang dibuat yaitu terhadap error yang dihasilkan dan kecepatan belajarnya. Namun masih terdapat berbagai model yang secara luas di dunia Data Science banyak digunakan yaitu Multiple Linear Regression, Polynomial Regression, Robust Regression, Random Forest, dan Gaussian Process regression. Model-model tersebut adalah model yang paling sering digunakan dan tentunya memiliki performa yang optimum.(https://towardsdatascience.com/7-of-the-most-commonly-used-regression-algorithms-and-how-to-choose-the-right-one-fc3c8890f9e3)\n",
    "\n",
    "- Dari segi dataset belum semua negara terdaftar pada dataset tersebut, contohnya adalah Indonesia. Secara kasar belum terdapat pendataan gaji DS Indonesia pada dataset tersebut. Perlu updating lebih lanjut terhadap dataset agar penggunaan Model Prediksi ini lebih baik."
   ]
  },
  {
   "cell_type": "markdown",
   "metadata": {},
   "source": [
    "### IV. Narasi based on EDA. \n",
    "> Sebutkan insight yang dapat diambil setelah proses EDA, dll.\n",
    "- EDA Pie:\n",
    "    - Diketahui dari dataset mayoritas status kepegawaian seorang Data Scientist adalah karyawan permanen.\n",
    "    - Selanjutnya daru segi pengalaman mayoritas Data Scientist sudah dikategorikan senior dengan 47%. Dilanjutkan Mid-Level 35%.\n",
    "    - Diketahui 5 Job yang title yang paling banyak ditemukan untuk para data scientist ini beruturt-turut: Data Scientist `(24%)`, Data Engineer `(22%)`, Data Analyst `(16%)`, Machine Learning Engineer `(7%)`, dan Research Scientist `(3%)`\n",
    "    \n",
    "    ` `\n",
    "- EDA Histogram:\n",
    "    - Pada dataset diketahui 350 dari 607 pekerjaan Data Scientist berada di Negara Amerika.\n",
    "    - Ditemukan lamanya pengalaman di dunia Data Scientist berbanding lurus terhadap salary yang diterima.\n",
    "    - Diketahui Data Scientist dengan gaji besar mayoritas ditemukan di negara USA\n",
    "    - Diketahui pendapat seorang data scientist umumnya adalah berkisar 90.000 USD ~ 100.000 USD. \n",
    "\n",
    "` `\n",
    "- EDA Scatterplot:\n",
    "    - Karyawan yang bekerja full ke kantor cenderug mendapatkan gaji lebih besar dibandingkan karyawan yang bekerja dari rumah.\n"
   ]
  },
  {
   "cell_type": "markdown",
   "metadata": {},
   "source": [
    "# XII - Pipeline Saving Model\n",
    ">\n"
   ]
  },
  {
   "cell_type": "markdown",
   "metadata": {},
   "source": [
    "> Melakukan penyimpanan pipeline dalam bentuk .pkl guna mempermudah proses Deploy"
   ]
  },
  {
   "cell_type": "code",
   "execution_count": 48,
   "metadata": {},
   "outputs": [],
   "source": [
    "Ridge_deploy = Pipeline(steps=[('preprocessing', full_pipeline), ('classifier', Ridge_GS.best_estimator_)])"
   ]
  },
  {
   "cell_type": "code",
   "execution_count": 49,
   "metadata": {},
   "outputs": [],
   "source": [
    "# save pipeline\n",
    "import pickle\n",
    "with open(\"pipeline_salary1.pkl\", \"wb\") as model_file:\n",
    "    pickle.dump(Ridge_deploy,model_file) #model file bermakna tempat kita akan menyimpan file tersebut"
   ]
  },
  {
   "cell_type": "code",
   "execution_count": 50,
   "metadata": {},
   "outputs": [
    {
     "data": {
      "text/plain": [
       "array([204017.60560425, 154327.3636688 ,  89281.9019287 , 126752.07804689,\n",
       "        51669.1612155 ,  79368.95652187, 131131.36009891,  99143.84589196,\n",
       "       103314.44917566,  83702.45611176])"
      ]
     },
     "execution_count": 50,
     "metadata": {},
     "output_type": "execute_result"
    }
   ],
   "source": [
    "y_pred_inf_2=Ridge_deploy.predict(df_inf)\n",
    "y_pred_inf_2"
   ]
  },
  {
   "cell_type": "code",
   "execution_count": 51,
   "metadata": {},
   "outputs": [
    {
     "data": {
      "text/html": [
       "<div>\n",
       "<style scoped>\n",
       "    .dataframe tbody tr th:only-of-type {\n",
       "        vertical-align: middle;\n",
       "    }\n",
       "\n",
       "    .dataframe tbody tr th {\n",
       "        vertical-align: top;\n",
       "    }\n",
       "\n",
       "    .dataframe thead th {\n",
       "        text-align: right;\n",
       "    }\n",
       "</style>\n",
       "<table border=\"1\" class=\"dataframe\">\n",
       "  <thead>\n",
       "    <tr style=\"text-align: right;\">\n",
       "      <th></th>\n",
       "      <th>salary - Prediction</th>\n",
       "    </tr>\n",
       "  </thead>\n",
       "  <tbody>\n",
       "    <tr>\n",
       "      <th>0</th>\n",
       "      <td>204017.605604</td>\n",
       "    </tr>\n",
       "    <tr>\n",
       "      <th>1</th>\n",
       "      <td>154327.363669</td>\n",
       "    </tr>\n",
       "    <tr>\n",
       "      <th>2</th>\n",
       "      <td>89281.901929</td>\n",
       "    </tr>\n",
       "    <tr>\n",
       "      <th>3</th>\n",
       "      <td>126752.078047</td>\n",
       "    </tr>\n",
       "    <tr>\n",
       "      <th>4</th>\n",
       "      <td>51669.161215</td>\n",
       "    </tr>\n",
       "    <tr>\n",
       "      <th>5</th>\n",
       "      <td>79368.956522</td>\n",
       "    </tr>\n",
       "    <tr>\n",
       "      <th>6</th>\n",
       "      <td>131131.360099</td>\n",
       "    </tr>\n",
       "    <tr>\n",
       "      <th>7</th>\n",
       "      <td>99143.845892</td>\n",
       "    </tr>\n",
       "    <tr>\n",
       "      <th>8</th>\n",
       "      <td>103314.449176</td>\n",
       "    </tr>\n",
       "    <tr>\n",
       "      <th>9</th>\n",
       "      <td>83702.456112</td>\n",
       "    </tr>\n",
       "  </tbody>\n",
       "</table>\n",
       "</div>"
      ],
      "text/plain": [
       "   salary - Prediction\n",
       "0        204017.605604\n",
       "1        154327.363669\n",
       "2         89281.901929\n",
       "3        126752.078047\n",
       "4         51669.161215\n",
       "5         79368.956522\n",
       "6        131131.360099\n",
       "7         99143.845892\n",
       "8        103314.449176\n",
       "9         83702.456112"
      ]
     },
     "execution_count": 51,
     "metadata": {},
     "output_type": "execute_result"
    }
   ],
   "source": [
    "y_pred_inf_df_2 = pd.DataFrame(y_pred_inf_2, columns=['salary - Prediction'])\n",
    "y_pred_inf_df_2"
   ]
  }
 ],
 "metadata": {
  "kernelspec": {
   "display_name": "Python 3.9.12 ('base')",
   "language": "python",
   "name": "python3"
  },
  "language_info": {
   "codemirror_mode": {
    "name": "ipython",
    "version": 3
   },
   "file_extension": ".py",
   "mimetype": "text/x-python",
   "name": "python",
   "nbconvert_exporter": "python",
   "pygments_lexer": "ipython3",
   "version": "3.9.12"
  },
  "orig_nbformat": 4,
  "vscode": {
   "interpreter": {
    "hash": "a1e1a152066122ccb36bd19c85ab646f64e9a78c298b07636d8dbaa9de0e7be5"
   }
  }
 },
 "nbformat": 4,
 "nbformat_minor": 2
}
